{
 "cells": [
  {
   "cell_type": "markdown",
   "metadata": {},
   "source": [
    "# ОПИСАНИЕ ЗАДАЧИ\n",
    "\n",
    "Данные:\n",
    "- чековые данные (transactions.parquet, для чтения через pandas дополнительно нужно установить библиотеку pyarrow)\n",
    "- справочник товаров (materials.csv)\n",
    "- справочник магазинов (plants.csv)\n",
    "- справочник клиентов (clients.csv)\n",
    "Более подробное описание данных дано в файле Data Description.\n",
    "\n",
    "Цель: \n",
    "1) проанализировать данные и определить оптимальную методологию определения отточных клиентов\n",
    "2) разработать модель вероятности оттока клиентов по выбранной вами методологии\n",
    "3) дать интерпретацию разработанной модели, ответить на вопросы: какие признаки наиболее влияют на отток клиентов\n"
   ]
  },
  {
   "cell_type": "markdown",
   "metadata": {},
   "source": [
    "# ЧАСТЬ 1. ПРЕДОБРАБОТКА ВХОДНЫХ ДАННЫХ"
   ]
  },
  {
   "cell_type": "markdown",
   "metadata": {},
   "source": [
    "### Загрузка библиотек"
   ]
  },
  {
   "cell_type": "code",
   "execution_count": 1,
   "metadata": {},
   "outputs": [],
   "source": [
    "import pyarrow.parquet as pq\n",
    "import pandas as pd\n",
    "from pathlib import Path\n",
    "import numpy as np\n",
    "import pickle"
   ]
  },
  {
   "cell_type": "markdown",
   "metadata": {},
   "source": [
    "# 1. Загрузка данных"
   ]
  },
  {
   "cell_type": "code",
   "execution_count": 2,
   "metadata": {},
   "outputs": [],
   "source": [
    "workdir = str(Path().absolute())"
   ]
  },
  {
   "cell_type": "code",
   "execution_count": 3,
   "metadata": {},
   "outputs": [],
   "source": [
    "transactions = pq.read_table(workdir+'/transactions.parquet')\n",
    "transactions = transactions.to_pandas()\n",
    "clients = pd.read_csv(workdir+'/clients.csv')\n",
    "materials = pd.read_csv(workdir+'/materials.csv')\n",
    "plants = pd.read_csv(workdir+'/plants.csv')"
   ]
  },
  {
   "cell_type": "markdown",
   "metadata": {},
   "source": [
    "Посмотрим на данные."
   ]
  },
  {
   "cell_type": "code",
   "execution_count": 4,
   "metadata": {},
   "outputs": [
    {
     "name": "stdout",
     "output_type": "stream",
     "text": [
      "<class 'pandas.core.frame.DataFrame'>\n",
      "RangeIndex: 32109414 entries, 0 to 32109413\n",
      "Data columns (total 9 columns):\n",
      "chq_id          object\n",
      "plant           object\n",
      "chq_date        datetime64[ns]\n",
      "chq_position    object\n",
      "client_id       object\n",
      "material        object\n",
      "sales_count     float64\n",
      "sales_sum       float64\n",
      "is_promo        int64\n",
      "dtypes: datetime64[ns](1), float64(2), int64(1), object(5)\n",
      "memory usage: 2.2+ GB\n"
     ]
    }
   ],
   "source": [
    "transactions.info()"
   ]
  },
  {
   "cell_type": "code",
   "execution_count": 5,
   "metadata": {},
   "outputs": [
    {
     "name": "stdout",
     "output_type": "stream",
     "text": [
      "<class 'pandas.core.frame.DataFrame'>\n",
      "RangeIndex: 99995 entries, 0 to 99994\n",
      "Data columns (total 4 columns):\n",
      "client_id    99995 non-null object\n",
      "gender       99640 non-null object\n",
      "city         99995 non-null object\n",
      "birthyear    98219 non-null float64\n",
      "dtypes: float64(1), object(3)\n",
      "memory usage: 3.1+ MB\n"
     ]
    }
   ],
   "source": [
    "clients.info()"
   ]
  },
  {
   "cell_type": "code",
   "execution_count": 6,
   "metadata": {},
   "outputs": [
    {
     "name": "stdout",
     "output_type": "stream",
     "text": [
      "<class 'pandas.core.frame.DataFrame'>\n",
      "RangeIndex: 105609 entries, 0 to 105608\n",
      "Data columns (total 8 columns):\n",
      "material            105609 non-null object\n",
      "hier_level_1        105609 non-null object\n",
      "hier_level_2        105609 non-null object\n",
      "hier_level_3        105609 non-null object\n",
      "hier_level_4        105609 non-null object\n",
      "vendor              105609 non-null object\n",
      "is_private_label    105609 non-null int64\n",
      "is_alco             105609 non-null int64\n",
      "dtypes: int64(2), object(6)\n",
      "memory usage: 6.4+ MB\n"
     ]
    }
   ],
   "source": [
    "materials.info()"
   ]
  },
  {
   "cell_type": "code",
   "execution_count": 7,
   "metadata": {},
   "outputs": [
    {
     "name": "stdout",
     "output_type": "stream",
     "text": [
      "<class 'pandas.core.frame.DataFrame'>\n",
      "RangeIndex: 388 entries, 0 to 387\n",
      "Data columns (total 3 columns):\n",
      "plant         388 non-null object\n",
      "plant_type    388 non-null object\n",
      "city          388 non-null object\n",
      "dtypes: object(3)\n",
      "memory usage: 9.2+ KB\n"
     ]
    }
   ],
   "source": [
    "plants.info()"
   ]
  },
  {
   "cell_type": "code",
   "execution_count": 8,
   "metadata": {},
   "outputs": [
    {
     "name": "stdout",
     "output_type": "stream",
     "text": [
      "********************************************************************************\n",
      "transactions:\n"
     ]
    },
    {
     "data": {
      "text/html": [
       "<div>\n",
       "<style scoped>\n",
       "    .dataframe tbody tr th:only-of-type {\n",
       "        vertical-align: middle;\n",
       "    }\n",
       "\n",
       "    .dataframe tbody tr th {\n",
       "        vertical-align: top;\n",
       "    }\n",
       "\n",
       "    .dataframe thead th {\n",
       "        text-align: right;\n",
       "    }\n",
       "</style>\n",
       "<table border=\"1\" class=\"dataframe\">\n",
       "  <thead>\n",
       "    <tr style=\"text-align: right;\">\n",
       "      <th></th>\n",
       "      <th>chq_id</th>\n",
       "      <th>plant</th>\n",
       "      <th>chq_date</th>\n",
       "      <th>chq_position</th>\n",
       "      <th>client_id</th>\n",
       "      <th>material</th>\n",
       "      <th>sales_count</th>\n",
       "      <th>sales_sum</th>\n",
       "      <th>is_promo</th>\n",
       "    </tr>\n",
       "  </thead>\n",
       "  <tbody>\n",
       "    <tr>\n",
       "      <th>0</th>\n",
       "      <td>ce5b3d1c531348c5d0d8e859b6d0cf91</td>\n",
       "      <td>7cd86ecb09aa48c6e620b340f6a74592</td>\n",
       "      <td>2016-11-01</td>\n",
       "      <td>004</td>\n",
       "      <td>90fca68123e692a005a4edeadd94b2f2</td>\n",
       "      <td>232cfe8b28970434f685b737737b26d4</td>\n",
       "      <td>2.0</td>\n",
       "      <td>146.98</td>\n",
       "      <td>0</td>\n",
       "    </tr>\n",
       "    <tr>\n",
       "      <th>1</th>\n",
       "      <td>ce5b3d1c531348c5d0d8e859b6d0cf91</td>\n",
       "      <td>7cd86ecb09aa48c6e620b340f6a74592</td>\n",
       "      <td>2016-11-01</td>\n",
       "      <td>003</td>\n",
       "      <td>90fca68123e692a005a4edeadd94b2f2</td>\n",
       "      <td>12ec64451b8e426db16f3f05ea770901</td>\n",
       "      <td>1.0</td>\n",
       "      <td>249.99</td>\n",
       "      <td>1</td>\n",
       "    </tr>\n",
       "    <tr>\n",
       "      <th>2</th>\n",
       "      <td>ce5b3d1c531348c5d0d8e859b6d0cf91</td>\n",
       "      <td>7cd86ecb09aa48c6e620b340f6a74592</td>\n",
       "      <td>2016-11-01</td>\n",
       "      <td>012</td>\n",
       "      <td>90fca68123e692a005a4edeadd94b2f2</td>\n",
       "      <td>1212ff8ecf53aebef093ca8ae216db68</td>\n",
       "      <td>1.0</td>\n",
       "      <td>47.99</td>\n",
       "      <td>1</td>\n",
       "    </tr>\n",
       "    <tr>\n",
       "      <th>3</th>\n",
       "      <td>ce5b3d1c531348c5d0d8e859b6d0cf91</td>\n",
       "      <td>7cd86ecb09aa48c6e620b340f6a74592</td>\n",
       "      <td>2016-11-01</td>\n",
       "      <td>013</td>\n",
       "      <td>90fca68123e692a005a4edeadd94b2f2</td>\n",
       "      <td>1212ff8ecf53aebef093ca8ae216db68</td>\n",
       "      <td>1.0</td>\n",
       "      <td>47.99</td>\n",
       "      <td>1</td>\n",
       "    </tr>\n",
       "    <tr>\n",
       "      <th>4</th>\n",
       "      <td>ce5b3d1c531348c5d0d8e859b6d0cf91</td>\n",
       "      <td>7cd86ecb09aa48c6e620b340f6a74592</td>\n",
       "      <td>2016-11-01</td>\n",
       "      <td>011</td>\n",
       "      <td>90fca68123e692a005a4edeadd94b2f2</td>\n",
       "      <td>571c6d3b559db8445e05265649eb30ab</td>\n",
       "      <td>2.0</td>\n",
       "      <td>53.98</td>\n",
       "      <td>1</td>\n",
       "    </tr>\n",
       "  </tbody>\n",
       "</table>\n",
       "</div>"
      ],
      "text/plain": [
       "                             chq_id                             plant  \\\n",
       "0  ce5b3d1c531348c5d0d8e859b6d0cf91  7cd86ecb09aa48c6e620b340f6a74592   \n",
       "1  ce5b3d1c531348c5d0d8e859b6d0cf91  7cd86ecb09aa48c6e620b340f6a74592   \n",
       "2  ce5b3d1c531348c5d0d8e859b6d0cf91  7cd86ecb09aa48c6e620b340f6a74592   \n",
       "3  ce5b3d1c531348c5d0d8e859b6d0cf91  7cd86ecb09aa48c6e620b340f6a74592   \n",
       "4  ce5b3d1c531348c5d0d8e859b6d0cf91  7cd86ecb09aa48c6e620b340f6a74592   \n",
       "\n",
       "    chq_date chq_position                         client_id  \\\n",
       "0 2016-11-01          004  90fca68123e692a005a4edeadd94b2f2   \n",
       "1 2016-11-01          003  90fca68123e692a005a4edeadd94b2f2   \n",
       "2 2016-11-01          012  90fca68123e692a005a4edeadd94b2f2   \n",
       "3 2016-11-01          013  90fca68123e692a005a4edeadd94b2f2   \n",
       "4 2016-11-01          011  90fca68123e692a005a4edeadd94b2f2   \n",
       "\n",
       "                           material  sales_count  sales_sum  is_promo  \n",
       "0  232cfe8b28970434f685b737737b26d4          2.0     146.98         0  \n",
       "1  12ec64451b8e426db16f3f05ea770901          1.0     249.99         1  \n",
       "2  1212ff8ecf53aebef093ca8ae216db68          1.0      47.99         1  \n",
       "3  1212ff8ecf53aebef093ca8ae216db68          1.0      47.99         1  \n",
       "4  571c6d3b559db8445e05265649eb30ab          2.0      53.98         1  "
      ]
     },
     "metadata": {},
     "output_type": "display_data"
    },
    {
     "name": "stdout",
     "output_type": "stream",
     "text": [
      "********************************************************************************\n",
      "clients:\n"
     ]
    },
    {
     "data": {
      "text/html": [
       "<div>\n",
       "<style scoped>\n",
       "    .dataframe tbody tr th:only-of-type {\n",
       "        vertical-align: middle;\n",
       "    }\n",
       "\n",
       "    .dataframe tbody tr th {\n",
       "        vertical-align: top;\n",
       "    }\n",
       "\n",
       "    .dataframe thead th {\n",
       "        text-align: right;\n",
       "    }\n",
       "</style>\n",
       "<table border=\"1\" class=\"dataframe\">\n",
       "  <thead>\n",
       "    <tr style=\"text-align: right;\">\n",
       "      <th></th>\n",
       "      <th>client_id</th>\n",
       "      <th>gender</th>\n",
       "      <th>city</th>\n",
       "      <th>birthyear</th>\n",
       "    </tr>\n",
       "  </thead>\n",
       "  <tbody>\n",
       "    <tr>\n",
       "      <th>0</th>\n",
       "      <td>1a47d62dddacc03fe90c15652f7ae1a4</td>\n",
       "      <td>M</td>\n",
       "      <td>Other</td>\n",
       "      <td>1990.0</td>\n",
       "    </tr>\n",
       "    <tr>\n",
       "      <th>1</th>\n",
       "      <td>9cb909f701d25d548e953bff81192b56</td>\n",
       "      <td>F</td>\n",
       "      <td>Other</td>\n",
       "      <td>1969.0</td>\n",
       "    </tr>\n",
       "    <tr>\n",
       "      <th>2</th>\n",
       "      <td>d5da0f5b841b4f83383202807995027a</td>\n",
       "      <td>M</td>\n",
       "      <td>Other</td>\n",
       "      <td>1976.0</td>\n",
       "    </tr>\n",
       "    <tr>\n",
       "      <th>3</th>\n",
       "      <td>13ed7f16810b17b8cee6de834ac79a48</td>\n",
       "      <td>F</td>\n",
       "      <td>Moscow</td>\n",
       "      <td>1966.0</td>\n",
       "    </tr>\n",
       "    <tr>\n",
       "      <th>4</th>\n",
       "      <td>215fe3ea7d5bf0415e5504e2a7f33551</td>\n",
       "      <td>F</td>\n",
       "      <td>Other</td>\n",
       "      <td>1988.0</td>\n",
       "    </tr>\n",
       "  </tbody>\n",
       "</table>\n",
       "</div>"
      ],
      "text/plain": [
       "                          client_id gender    city  birthyear\n",
       "0  1a47d62dddacc03fe90c15652f7ae1a4      M   Other     1990.0\n",
       "1  9cb909f701d25d548e953bff81192b56      F   Other     1969.0\n",
       "2  d5da0f5b841b4f83383202807995027a      M   Other     1976.0\n",
       "3  13ed7f16810b17b8cee6de834ac79a48      F  Moscow     1966.0\n",
       "4  215fe3ea7d5bf0415e5504e2a7f33551      F   Other     1988.0"
      ]
     },
     "metadata": {},
     "output_type": "display_data"
    },
    {
     "name": "stdout",
     "output_type": "stream",
     "text": [
      "********************************************************************************\n",
      "materials:\n"
     ]
    },
    {
     "data": {
      "text/html": [
       "<div>\n",
       "<style scoped>\n",
       "    .dataframe tbody tr th:only-of-type {\n",
       "        vertical-align: middle;\n",
       "    }\n",
       "\n",
       "    .dataframe tbody tr th {\n",
       "        vertical-align: top;\n",
       "    }\n",
       "\n",
       "    .dataframe thead th {\n",
       "        text-align: right;\n",
       "    }\n",
       "</style>\n",
       "<table border=\"1\" class=\"dataframe\">\n",
       "  <thead>\n",
       "    <tr style=\"text-align: right;\">\n",
       "      <th></th>\n",
       "      <th>material</th>\n",
       "      <th>hier_level_1</th>\n",
       "      <th>hier_level_2</th>\n",
       "      <th>hier_level_3</th>\n",
       "      <th>hier_level_4</th>\n",
       "      <th>vendor</th>\n",
       "      <th>is_private_label</th>\n",
       "      <th>is_alco</th>\n",
       "    </tr>\n",
       "  </thead>\n",
       "  <tbody>\n",
       "    <tr>\n",
       "      <th>0</th>\n",
       "      <td>35cbdf61de9e19c8b417327aaef14c88</td>\n",
       "      <td>NONFOOD</td>\n",
       "      <td>ea5d2f1c4608232e07d3aa3d998e5135</td>\n",
       "      <td>99cad265a1768cc2dd013f0e740300ae</td>\n",
       "      <td>9eed45f71360b4b1e2590637467220e5</td>\n",
       "      <td>212a38db0ddcd009f1e164cc8483485c</td>\n",
       "      <td>0</td>\n",
       "      <td>0</td>\n",
       "    </tr>\n",
       "    <tr>\n",
       "      <th>1</th>\n",
       "      <td>c0b0bf24d4ec71da3d304f761ec555d8</td>\n",
       "      <td>NONFOOD</td>\n",
       "      <td>ea5d2f1c4608232e07d3aa3d998e5135</td>\n",
       "      <td>99cad265a1768cc2dd013f0e740300ae</td>\n",
       "      <td>de2eb747e0896c050905a6b635ab800a</td>\n",
       "      <td>9b0b6c7d55413ad3b67761b7b125b534</td>\n",
       "      <td>0</td>\n",
       "      <td>0</td>\n",
       "    </tr>\n",
       "    <tr>\n",
       "      <th>2</th>\n",
       "      <td>f0fc5e654a81a7c4b8ba8d7c26546e14</td>\n",
       "      <td>NONFOOD</td>\n",
       "      <td>ea5d2f1c4608232e07d3aa3d998e5135</td>\n",
       "      <td>99cad265a1768cc2dd013f0e740300ae</td>\n",
       "      <td>8a969031832c535daf96e0c2aed8e814</td>\n",
       "      <td>9b0b6c7d55413ad3b67761b7b125b534</td>\n",
       "      <td>0</td>\n",
       "      <td>0</td>\n",
       "    </tr>\n",
       "    <tr>\n",
       "      <th>3</th>\n",
       "      <td>353693e64fb5f9e2d29746d7fe6edf1e</td>\n",
       "      <td>NONFOOD</td>\n",
       "      <td>ea5d2f1c4608232e07d3aa3d998e5135</td>\n",
       "      <td>b58f7d184743106a8a66028b7a28937c</td>\n",
       "      <td>4c0dc012ebb679a18b244c53c6f59b5a</td>\n",
       "      <td>a3c8be149d718771e892619bd310b961</td>\n",
       "      <td>0</td>\n",
       "      <td>0</td>\n",
       "    </tr>\n",
       "    <tr>\n",
       "      <th>4</th>\n",
       "      <td>5d9e0b4302ce95448cae72165ff4cf5b</td>\n",
       "      <td>NONFOOD</td>\n",
       "      <td>ea5d2f1c4608232e07d3aa3d998e5135</td>\n",
       "      <td>b58f7d184743106a8a66028b7a28937c</td>\n",
       "      <td>4c0dc012ebb679a18b244c53c6f59b5a</td>\n",
       "      <td>a3c8be149d718771e892619bd310b961</td>\n",
       "      <td>0</td>\n",
       "      <td>0</td>\n",
       "    </tr>\n",
       "  </tbody>\n",
       "</table>\n",
       "</div>"
      ],
      "text/plain": [
       "                           material hier_level_1  \\\n",
       "0  35cbdf61de9e19c8b417327aaef14c88      NONFOOD   \n",
       "1  c0b0bf24d4ec71da3d304f761ec555d8      NONFOOD   \n",
       "2  f0fc5e654a81a7c4b8ba8d7c26546e14      NONFOOD   \n",
       "3  353693e64fb5f9e2d29746d7fe6edf1e      NONFOOD   \n",
       "4  5d9e0b4302ce95448cae72165ff4cf5b      NONFOOD   \n",
       "\n",
       "                       hier_level_2                      hier_level_3  \\\n",
       "0  ea5d2f1c4608232e07d3aa3d998e5135  99cad265a1768cc2dd013f0e740300ae   \n",
       "1  ea5d2f1c4608232e07d3aa3d998e5135  99cad265a1768cc2dd013f0e740300ae   \n",
       "2  ea5d2f1c4608232e07d3aa3d998e5135  99cad265a1768cc2dd013f0e740300ae   \n",
       "3  ea5d2f1c4608232e07d3aa3d998e5135  b58f7d184743106a8a66028b7a28937c   \n",
       "4  ea5d2f1c4608232e07d3aa3d998e5135  b58f7d184743106a8a66028b7a28937c   \n",
       "\n",
       "                       hier_level_4                            vendor  \\\n",
       "0  9eed45f71360b4b1e2590637467220e5  212a38db0ddcd009f1e164cc8483485c   \n",
       "1  de2eb747e0896c050905a6b635ab800a  9b0b6c7d55413ad3b67761b7b125b534   \n",
       "2  8a969031832c535daf96e0c2aed8e814  9b0b6c7d55413ad3b67761b7b125b534   \n",
       "3  4c0dc012ebb679a18b244c53c6f59b5a  a3c8be149d718771e892619bd310b961   \n",
       "4  4c0dc012ebb679a18b244c53c6f59b5a  a3c8be149d718771e892619bd310b961   \n",
       "\n",
       "   is_private_label  is_alco  \n",
       "0                 0        0  \n",
       "1                 0        0  \n",
       "2                 0        0  \n",
       "3                 0        0  \n",
       "4                 0        0  "
      ]
     },
     "metadata": {},
     "output_type": "display_data"
    },
    {
     "name": "stdout",
     "output_type": "stream",
     "text": [
      "********************************************************************************\n",
      "plants:\n"
     ]
    },
    {
     "data": {
      "text/html": [
       "<div>\n",
       "<style scoped>\n",
       "    .dataframe tbody tr th:only-of-type {\n",
       "        vertical-align: middle;\n",
       "    }\n",
       "\n",
       "    .dataframe tbody tr th {\n",
       "        vertical-align: top;\n",
       "    }\n",
       "\n",
       "    .dataframe thead th {\n",
       "        text-align: right;\n",
       "    }\n",
       "</style>\n",
       "<table border=\"1\" class=\"dataframe\">\n",
       "  <thead>\n",
       "    <tr style=\"text-align: right;\">\n",
       "      <th></th>\n",
       "      <th>plant</th>\n",
       "      <th>plant_type</th>\n",
       "      <th>city</th>\n",
       "    </tr>\n",
       "  </thead>\n",
       "  <tbody>\n",
       "    <tr>\n",
       "      <th>0</th>\n",
       "      <td>95b09698fda1f64af16708ffb859eab9</td>\n",
       "      <td>HM</td>\n",
       "      <td>St. Petersburg</td>\n",
       "    </tr>\n",
       "    <tr>\n",
       "      <th>1</th>\n",
       "      <td>926abae84a4bd33c834bc6b981b8cf30</td>\n",
       "      <td>HM</td>\n",
       "      <td>St. Petersburg</td>\n",
       "    </tr>\n",
       "    <tr>\n",
       "      <th>2</th>\n",
       "      <td>ae2bac2e4b4da805d01b2952d7e35ba4</td>\n",
       "      <td>HM</td>\n",
       "      <td>St. Petersburg</td>\n",
       "    </tr>\n",
       "    <tr>\n",
       "      <th>3</th>\n",
       "      <td>0e7e3cf0ded4d9db8b376b317c007f99</td>\n",
       "      <td>HM</td>\n",
       "      <td>St. Petersburg</td>\n",
       "    </tr>\n",
       "    <tr>\n",
       "      <th>4</th>\n",
       "      <td>540bd55a2cf295b8ea9cd78650e89d03</td>\n",
       "      <td>HM</td>\n",
       "      <td>St. Petersburg</td>\n",
       "    </tr>\n",
       "  </tbody>\n",
       "</table>\n",
       "</div>"
      ],
      "text/plain": [
       "                              plant plant_type            city\n",
       "0  95b09698fda1f64af16708ffb859eab9         HM  St. Petersburg\n",
       "1  926abae84a4bd33c834bc6b981b8cf30         HM  St. Petersburg\n",
       "2  ae2bac2e4b4da805d01b2952d7e35ba4         HM  St. Petersburg\n",
       "3  0e7e3cf0ded4d9db8b376b317c007f99         HM  St. Petersburg\n",
       "4  540bd55a2cf295b8ea9cd78650e89d03         HM  St. Petersburg"
      ]
     },
     "metadata": {},
     "output_type": "display_data"
    }
   ],
   "source": [
    "print(80*'*')\n",
    "print('transactions:')\n",
    "display(transactions.head())\n",
    "\n",
    "print(80*'*')\n",
    "print('clients:')\n",
    "display(clients.head())\n",
    "\n",
    "print(80*'*')\n",
    "print('materials:')\n",
    "display(materials.head())\n",
    "\n",
    "print(80*'*')\n",
    "print('plants:')\n",
    "display(plants.head())"
   ]
  },
  {
   "cell_type": "markdown",
   "metadata": {},
   "source": [
    "Выводы:\n",
    "* данные transactions занимают очень много памяти\n",
    "* для некоторых данных возможно уменьшение размера потребляемой памяти\n",
    "* данные clients содержат пропущенные значения в столбцах gender и birthyear"
   ]
  },
  {
   "cell_type": "markdown",
   "metadata": {},
   "source": [
    "# 2. Предобработка данных"
   ]
  },
  {
   "cell_type": "markdown",
   "metadata": {},
   "source": [
    "### Уменьшение размера уникальных ключей"
   ]
  },
  {
   "cell_type": "markdown",
   "metadata": {},
   "source": [
    "Посмотрим на количество уникальных ключей в каждом датафрейме."
   ]
  },
  {
   "cell_type": "code",
   "execution_count": 9,
   "metadata": {},
   "outputs": [
    {
     "name": "stdout",
     "output_type": "stream",
     "text": [
      "transactions:\n",
      "     Уникальных chq_id: 2964775\n",
      "     Уникальных client_id: 100000\n",
      "     Уникальных material: 105694\n",
      "     Уникальных plant: 388\n",
      "clients:\n",
      "     Уникальных client_id: 99995\n",
      "materials:\n",
      "     Уникальных material: 105609\n",
      "plants:\n",
      "     Уникальных plant: 388\n"
     ]
    }
   ],
   "source": [
    "print('transactions:')\n",
    "print(f'     Уникальных chq_id: {transactions.chq_id.nunique()}')\n",
    "print(f'     Уникальных client_id: {transactions.client_id.nunique()}')\n",
    "print(f'     Уникальных material: {transactions.material.nunique()}')\n",
    "print(f'     Уникальных plant: {transactions.plant.nunique()}')\n",
    "print('clients:')\n",
    "print(f'     Уникальных client_id: {clients.client_id.nunique()}')\n",
    "print('materials:')\n",
    "print(f'     Уникальных material: {materials.material.nunique()}')\n",
    "print('plants:')\n",
    "print(f'     Уникальных plant: {plants.plant.nunique()}')"
   ]
  },
  {
   "cell_type": "markdown",
   "metadata": {},
   "source": [
    "Уникальных ключей намного меньше, чем позволяет хранить их длинный шестнадцатиричный формат. В рамках данного анализа целесообразно перевести эти ключи в числовой формат меньшей размерности. Это позволит существенно уменьшить потребление памяти."
   ]
  },
  {
   "cell_type": "code",
   "execution_count": 10,
   "metadata": {},
   "outputs": [],
   "source": [
    "client_ids = pd.DataFrame({'client_id':transactions.client_id.drop_duplicates()\\\n",
    "                                                       .append(clients.client_id.drop_duplicates())\\\n",
    "                                                       .drop_duplicates()})\n",
    "client_ids['num'] = client_ids['client_id'].astype('category').cat.codes\n",
    "\n",
    "material_ids = pd.DataFrame({'material':transactions.material.drop_duplicates()\\\n",
    "                                                       .append(materials.material.drop_duplicates())\\\n",
    "                                                       .drop_duplicates()})\n",
    "material_ids['num'] = material_ids['material'].astype('category').cat.codes\n",
    "\n",
    "plant_ids = pd.DataFrame({'plant':transactions.plant.drop_duplicates()\\\n",
    "                                                       .append(plants.plant.drop_duplicates())\\\n",
    "                                                       .drop_duplicates()})\n",
    "plant_ids['num'] = plant_ids['plant'].astype('category').cat.codes\n",
    "\n",
    "chq_ids = pd.DataFrame({'chq_id':transactions.chq_id.drop_duplicates()})\n",
    "chq_ids['num'] = chq_ids['chq_id'].astype('category').cat.codes"
   ]
  },
  {
   "cell_type": "code",
   "execution_count": 11,
   "metadata": {},
   "outputs": [],
   "source": [
    "transactions = transactions.merge(client_ids, how='left', on='client_id')\\\n",
    "                           .drop(columns='client_id')\\\n",
    "                           .rename(columns={'num':'client_id'})\n",
    "transactions = transactions.merge(material_ids, how='left', on='material')\\\n",
    "                           .drop(columns='material')\\\n",
    "                           .rename(columns={'num':'material'})\n",
    "transactions = transactions.merge(plant_ids, how='left', on='plant')\\\n",
    "                           .drop(columns='plant')\\\n",
    "                           .rename(columns={'num':'plant'})\n",
    "transactions = transactions.merge(chq_ids, how='left', on='chq_id')\\\n",
    "                           .drop(columns='chq_id')\\\n",
    "                           .rename(columns={'num':'chq_id'})\n",
    "clients = clients.merge(client_ids, how='left', on='client_id')\\\n",
    "                           .drop(columns='client_id')\\\n",
    "                           .rename(columns={'num':'client_id'})\n",
    "materials = materials.merge(material_ids, how='left', on='material')\\\n",
    "                           .drop(columns='material')\\\n",
    "                           .rename(columns={'num':'material'})\n",
    "plants = plants.merge(plant_ids, how='left', on='plant')\\\n",
    "                           .drop(columns='plant')\\\n",
    "                           .rename(columns={'num':'plant'})"
   ]
  },
  {
   "cell_type": "markdown",
   "metadata": {},
   "source": [
    "### Предобработка transactions"
   ]
  },
  {
   "cell_type": "markdown",
   "metadata": {},
   "source": [
    "Посмотрим на object-данные по позиции в чеке (chq_position)."
   ]
  },
  {
   "cell_type": "code",
   "execution_count": 12,
   "metadata": {},
   "outputs": [
    {
     "data": {
      "text/plain": [
       "array(['004', '003', '012', '013', '011', '001', '006', '010', '007',\n",
       "       '005', '008', '002', '009', '022', '025', '023', '049', '030',\n",
       "       '046', '038', '041', '024', '045', '018', '033', '034', '019',\n",
       "       '042', '020', '021', '035', '016', '029', '015', '047', '026',\n",
       "       '031', '043', '014', '039', '036', '027', '017', '032', '040',\n",
       "       '048', '044', '028', '037', '068', '064', '073', '055', '052',\n",
       "       '058', '065', '074', '075', '077', '054', '072', '066', '059',\n",
       "       '060', '067', '051', '078', '069', '056', '081', '076', '080',\n",
       "       '071', '061', '082', '050', '062', '070', '079', '053', '063',\n",
       "       '057', '085', '088', '095', '087', '089', '096', '103', '086',\n",
       "       '100', '097', '092', '098', '105', '084', '093', '091', '101',\n",
       "       '102', '083', '104', '099', '094', '090', '128', '129', '133',\n",
       "       '126', '146', '136', '137', '124', '116', '113', '141', '131',\n",
       "       '106', '148', '114', '117', '144', '119', '120', '122', '112',\n",
       "       '134', '145', '139', '109', '147', '135', '125', '140', '110',\n",
       "       '108', '130', '143', '142', '127', '115', '111', '123', '121',\n",
       "       '118', '138', '107', '132', '162', '174', '171', '150', '193',\n",
       "       '165', '192', '202', '199', '158', '195', '160', '175', '183',\n",
       "       '186', '198', '168', '153', '151', '189', '200', '161', '154',\n",
       "       '196', '155', '152', '184', '180', '164', '185', '203', '177',\n",
       "       '166', '188', '194', '169', '170', '167', '172', '176', '159',\n",
       "       '149', '190', '201', '197', '173', '156', '178', '179', '157',\n",
       "       '187', '163', '191', '182', '181', '204', '205', '206',\n",
       "       '0000000003', '0000000012', '0000000013', '0000000005',\n",
       "       '0000000011', '0000000001', '0000000017', '0000000014',\n",
       "       '0000000004', '0000000018', '0000000007', '0000000002',\n",
       "       '0000000006', '0000000016', '0000000008', '0000000015',\n",
       "       '0000000010', '0000000009', '0000000019', '0000000021',\n",
       "       '0000000029', '0000000030', '0000000028', '0000000027',\n",
       "       '0000000025', '0000000023', '0000000026', '0000000020',\n",
       "       '0000000024', '0000000022', '0000000032', '0000000033',\n",
       "       '0000000031', '0000000039', '0000000034', '0000000036',\n",
       "       '0000000035', '0000000040', '0000000043', '0000000042',\n",
       "       '0000000038', '0000000037', '0000000041', '0000000048',\n",
       "       '0000000051', '0000000047', '0000000053', '0000000044',\n",
       "       '0000000052', '0000000050', '0000000049', '0000000046',\n",
       "       '0000000045', '0000000106', '0000000071', '0000000109',\n",
       "       '0000000092', '0000000113', '0000000079', '0000000062',\n",
       "       '0000000097', '0000000054', '0000000072', '0000000066',\n",
       "       '0000000068', '0000000070', '0000000060', '0000000061',\n",
       "       '0000000088', '0000000084', '0000000076', '0000000110',\n",
       "       '0000000086', '0000000090', '0000000078', '0000000089',\n",
       "       '0000000107', '0000000095', '0000000064', '0000000087',\n",
       "       '0000000103', '0000000059', '0000000085', '0000000096',\n",
       "       '0000000083', '0000000098', '0000000081', '0000000099',\n",
       "       '0000000105', '0000000057', '0000000112', '0000000100',\n",
       "       '0000000111', '0000000102', '0000000101', '0000000082',\n",
       "       '0000000091', '0000000058', '0000000073', '0000000094',\n",
       "       '0000000063', '0000000056', '0000000069', '0000000104',\n",
       "       '0000000080', '0000000075', '0000000067', '0000000055',\n",
       "       '0000000108', '0000000093', '0000000077', '0000000074',\n",
       "       '0000000065', '0000000114', '0000000117', '0000000115',\n",
       "       '0000000116', '0000000123', '0000000136', '0000000121',\n",
       "       '0000000131', '0000000125', '0000000122', '0000000129',\n",
       "       '0000000133', '0000000138', '0000000120', '0000000126',\n",
       "       '0000000119', '0000000118', '0000000134', '0000000130',\n",
       "       '0000000135', '0000000132', '0000000128', '0000000127',\n",
       "       '0000000124', '0000000137', '0000000155', '0000000185',\n",
       "       '0000000160', '0000000192', '0000000212', '0000000147',\n",
       "       '0000000174', '0000000150', '0000000157', '0000000140',\n",
       "       '0000000200', '0000000149', '0000000182', '0000000171',\n",
       "       '0000000191', '0000000206', '0000000159', '0000000193',\n",
       "       '0000000153', '0000000208', '0000000141', '0000000215',\n",
       "       '0000000214', '0000000202', '0000000156', '0000000181',\n",
       "       '0000000209', '0000000151', '0000000213', '0000000168',\n",
       "       '0000000184', '0000000169', '0000000176', '0000000154',\n",
       "       '0000000148', '0000000198', '0000000187', '0000000173',\n",
       "       '0000000165', '0000000197', '0000000164', '0000000201',\n",
       "       '0000000175', '0000000180', '0000000195', '0000000186',\n",
       "       '0000000205', '0000000142', '0000000172', '0000000166',\n",
       "       '0000000162', '0000000183', '0000000143', '0000000196',\n",
       "       '0000000152', '0000000199', '0000000204', '0000000211',\n",
       "       '0000000161', '0000000178', '0000000203', '0000000207',\n",
       "       '0000000210', '0000000194', '0000000146', '0000000170',\n",
       "       '0000000144', '0000000158', '0000000177', '0000000167',\n",
       "       '0000000188', '0000000163', '0000000139', '0000000179',\n",
       "       '0000000145', '0000000190', '0000000189', '215', '209', '218',\n",
       "       '211', '216', '213', '214', '217', '207', '210', '208', '212',\n",
       "       '224', '238', '237', '240', '220', '235', '231', '227', '230',\n",
       "       '243', '222', '229', '233', '226', '225', '228', '244', '232',\n",
       "       '236', '234', '219', '223', '241', '221', '239', '242'],\n",
       "      dtype=object)"
      ]
     },
     "execution_count": 12,
     "metadata": {},
     "output_type": "execute_result"
    }
   ],
   "source": [
    "transactions['chq_position'].unique()"
   ]
  },
  {
   "cell_type": "markdown",
   "metadata": {},
   "source": [
    "Все данные являются числовыми. Убедимся, что данные формата \"00000000XX\" эквиваленты данным формата \"0XX\"."
   ]
  },
  {
   "cell_type": "code",
   "execution_count": 13,
   "metadata": {},
   "outputs": [
    {
     "data": {
      "text/html": [
       "<div>\n",
       "<style scoped>\n",
       "    .dataframe tbody tr th:only-of-type {\n",
       "        vertical-align: middle;\n",
       "    }\n",
       "\n",
       "    .dataframe tbody tr th {\n",
       "        vertical-align: top;\n",
       "    }\n",
       "\n",
       "    .dataframe thead th {\n",
       "        text-align: right;\n",
       "    }\n",
       "</style>\n",
       "<table border=\"1\" class=\"dataframe\">\n",
       "  <thead>\n",
       "    <tr style=\"text-align: right;\">\n",
       "      <th></th>\n",
       "      <th>chq_date</th>\n",
       "      <th>chq_position</th>\n",
       "      <th>sales_count</th>\n",
       "      <th>sales_sum</th>\n",
       "      <th>is_promo</th>\n",
       "      <th>client_id</th>\n",
       "      <th>material</th>\n",
       "      <th>plant</th>\n",
       "      <th>chq_id</th>\n",
       "    </tr>\n",
       "  </thead>\n",
       "  <tbody>\n",
       "    <tr>\n",
       "      <th>10887678</th>\n",
       "      <td>2017-09-05</td>\n",
       "      <td>0000000010</td>\n",
       "      <td>1.00</td>\n",
       "      <td>369.39</td>\n",
       "      <td>0</td>\n",
       "      <td>46747</td>\n",
       "      <td>92735</td>\n",
       "      <td>49</td>\n",
       "      <td>106596</td>\n",
       "    </tr>\n",
       "    <tr>\n",
       "      <th>10887692</th>\n",
       "      <td>2017-09-05</td>\n",
       "      <td>0000000010</td>\n",
       "      <td>2.07</td>\n",
       "      <td>98.10</td>\n",
       "      <td>0</td>\n",
       "      <td>82757</td>\n",
       "      <td>40490</td>\n",
       "      <td>49</td>\n",
       "      <td>1842934</td>\n",
       "    </tr>\n",
       "    <tr>\n",
       "      <th>10887707</th>\n",
       "      <td>2017-09-05</td>\n",
       "      <td>0000000010</td>\n",
       "      <td>1.00</td>\n",
       "      <td>68.89</td>\n",
       "      <td>1</td>\n",
       "      <td>14700</td>\n",
       "      <td>91883</td>\n",
       "      <td>49</td>\n",
       "      <td>1514007</td>\n",
       "    </tr>\n",
       "    <tr>\n",
       "      <th>10887729</th>\n",
       "      <td>2017-09-05</td>\n",
       "      <td>0000000010</td>\n",
       "      <td>1.00</td>\n",
       "      <td>39.99</td>\n",
       "      <td>0</td>\n",
       "      <td>95</td>\n",
       "      <td>26915</td>\n",
       "      <td>49</td>\n",
       "      <td>2507697</td>\n",
       "    </tr>\n",
       "    <tr>\n",
       "      <th>10887740</th>\n",
       "      <td>2017-09-05</td>\n",
       "      <td>0000000010</td>\n",
       "      <td>1.00</td>\n",
       "      <td>114.99</td>\n",
       "      <td>1</td>\n",
       "      <td>99480</td>\n",
       "      <td>5407</td>\n",
       "      <td>49</td>\n",
       "      <td>1939753</td>\n",
       "    </tr>\n",
       "  </tbody>\n",
       "</table>\n",
       "</div>"
      ],
      "text/plain": [
       "           chq_date chq_position  sales_count  sales_sum  is_promo  client_id  \\\n",
       "10887678 2017-09-05   0000000010         1.00     369.39         0      46747   \n",
       "10887692 2017-09-05   0000000010         2.07      98.10         0      82757   \n",
       "10887707 2017-09-05   0000000010         1.00      68.89         1      14700   \n",
       "10887729 2017-09-05   0000000010         1.00      39.99         0         95   \n",
       "10887740 2017-09-05   0000000010         1.00     114.99         1      99480   \n",
       "\n",
       "          material  plant   chq_id  \n",
       "10887678     92735     49   106596  \n",
       "10887692     40490     49  1842934  \n",
       "10887707     91883     49  1514007  \n",
       "10887729     26915     49  2507697  \n",
       "10887740      5407     49  1939753  "
      ]
     },
     "execution_count": 13,
     "metadata": {},
     "output_type": "execute_result"
    }
   ],
   "source": [
    "transactions[transactions.chq_position=='0000000010'].head()"
   ]
  },
  {
   "cell_type": "code",
   "execution_count": 14,
   "metadata": {},
   "outputs": [
    {
     "data": {
      "text/html": [
       "<div>\n",
       "<style scoped>\n",
       "    .dataframe tbody tr th:only-of-type {\n",
       "        vertical-align: middle;\n",
       "    }\n",
       "\n",
       "    .dataframe tbody tr th {\n",
       "        vertical-align: top;\n",
       "    }\n",
       "\n",
       "    .dataframe thead th {\n",
       "        text-align: right;\n",
       "    }\n",
       "</style>\n",
       "<table border=\"1\" class=\"dataframe\">\n",
       "  <thead>\n",
       "    <tr style=\"text-align: right;\">\n",
       "      <th></th>\n",
       "      <th>chq_date</th>\n",
       "      <th>chq_position</th>\n",
       "      <th>sales_count</th>\n",
       "      <th>sales_sum</th>\n",
       "      <th>is_promo</th>\n",
       "      <th>client_id</th>\n",
       "      <th>material</th>\n",
       "      <th>plant</th>\n",
       "      <th>chq_id</th>\n",
       "    </tr>\n",
       "  </thead>\n",
       "  <tbody>\n",
       "    <tr>\n",
       "      <th>10887667</th>\n",
       "      <td>2017-09-05</td>\n",
       "      <td>0000000001</td>\n",
       "      <td>1.000</td>\n",
       "      <td>178.99</td>\n",
       "      <td>0</td>\n",
       "      <td>46747</td>\n",
       "      <td>59588</td>\n",
       "      <td>49</td>\n",
       "      <td>106596</td>\n",
       "    </tr>\n",
       "    <tr>\n",
       "      <th>10887673</th>\n",
       "      <td>2017-09-05</td>\n",
       "      <td>0000000002</td>\n",
       "      <td>1.000</td>\n",
       "      <td>182.99</td>\n",
       "      <td>0</td>\n",
       "      <td>46747</td>\n",
       "      <td>82712</td>\n",
       "      <td>49</td>\n",
       "      <td>106596</td>\n",
       "    </tr>\n",
       "    <tr>\n",
       "      <th>10887662</th>\n",
       "      <td>2017-09-05</td>\n",
       "      <td>0000000003</td>\n",
       "      <td>1.000</td>\n",
       "      <td>89.89</td>\n",
       "      <td>1</td>\n",
       "      <td>46747</td>\n",
       "      <td>7415</td>\n",
       "      <td>49</td>\n",
       "      <td>106596</td>\n",
       "    </tr>\n",
       "    <tr>\n",
       "      <th>10887670</th>\n",
       "      <td>2017-09-05</td>\n",
       "      <td>0000000004</td>\n",
       "      <td>1.000</td>\n",
       "      <td>89.89</td>\n",
       "      <td>1</td>\n",
       "      <td>46747</td>\n",
       "      <td>7415</td>\n",
       "      <td>49</td>\n",
       "      <td>106596</td>\n",
       "    </tr>\n",
       "    <tr>\n",
       "      <th>10887665</th>\n",
       "      <td>2017-09-05</td>\n",
       "      <td>0000000005</td>\n",
       "      <td>1.000</td>\n",
       "      <td>39.89</td>\n",
       "      <td>1</td>\n",
       "      <td>46747</td>\n",
       "      <td>90001</td>\n",
       "      <td>49</td>\n",
       "      <td>106596</td>\n",
       "    </tr>\n",
       "    <tr>\n",
       "      <th>10887674</th>\n",
       "      <td>2017-09-05</td>\n",
       "      <td>0000000006</td>\n",
       "      <td>0.340</td>\n",
       "      <td>16.11</td>\n",
       "      <td>0</td>\n",
       "      <td>46747</td>\n",
       "      <td>40490</td>\n",
       "      <td>49</td>\n",
       "      <td>106596</td>\n",
       "    </tr>\n",
       "    <tr>\n",
       "      <th>10887672</th>\n",
       "      <td>2017-09-05</td>\n",
       "      <td>0000000007</td>\n",
       "      <td>1.000</td>\n",
       "      <td>350.99</td>\n",
       "      <td>0</td>\n",
       "      <td>46747</td>\n",
       "      <td>21786</td>\n",
       "      <td>49</td>\n",
       "      <td>106596</td>\n",
       "    </tr>\n",
       "    <tr>\n",
       "      <th>10887676</th>\n",
       "      <td>2017-09-05</td>\n",
       "      <td>0000000008</td>\n",
       "      <td>1.000</td>\n",
       "      <td>289.89</td>\n",
       "      <td>0</td>\n",
       "      <td>46747</td>\n",
       "      <td>104758</td>\n",
       "      <td>49</td>\n",
       "      <td>106596</td>\n",
       "    </tr>\n",
       "    <tr>\n",
       "      <th>10887679</th>\n",
       "      <td>2017-09-05</td>\n",
       "      <td>0000000009</td>\n",
       "      <td>1.000</td>\n",
       "      <td>368.67</td>\n",
       "      <td>0</td>\n",
       "      <td>46747</td>\n",
       "      <td>92735</td>\n",
       "      <td>49</td>\n",
       "      <td>106596</td>\n",
       "    </tr>\n",
       "    <tr>\n",
       "      <th>10887678</th>\n",
       "      <td>2017-09-05</td>\n",
       "      <td>0000000010</td>\n",
       "      <td>1.000</td>\n",
       "      <td>369.39</td>\n",
       "      <td>0</td>\n",
       "      <td>46747</td>\n",
       "      <td>92735</td>\n",
       "      <td>49</td>\n",
       "      <td>106596</td>\n",
       "    </tr>\n",
       "    <tr>\n",
       "      <th>10887666</th>\n",
       "      <td>2017-09-05</td>\n",
       "      <td>0000000011</td>\n",
       "      <td>1.000</td>\n",
       "      <td>182.99</td>\n",
       "      <td>0</td>\n",
       "      <td>46747</td>\n",
       "      <td>82775</td>\n",
       "      <td>49</td>\n",
       "      <td>106596</td>\n",
       "    </tr>\n",
       "    <tr>\n",
       "      <th>10887663</th>\n",
       "      <td>2017-09-05</td>\n",
       "      <td>0000000012</td>\n",
       "      <td>2.000</td>\n",
       "      <td>94.98</td>\n",
       "      <td>0</td>\n",
       "      <td>46747</td>\n",
       "      <td>33578</td>\n",
       "      <td>49</td>\n",
       "      <td>106596</td>\n",
       "    </tr>\n",
       "    <tr>\n",
       "      <th>10887664</th>\n",
       "      <td>2017-09-05</td>\n",
       "      <td>0000000013</td>\n",
       "      <td>1.000</td>\n",
       "      <td>119.99</td>\n",
       "      <td>0</td>\n",
       "      <td>46747</td>\n",
       "      <td>69533</td>\n",
       "      <td>49</td>\n",
       "      <td>106596</td>\n",
       "    </tr>\n",
       "    <tr>\n",
       "      <th>10887669</th>\n",
       "      <td>2017-09-05</td>\n",
       "      <td>0000000014</td>\n",
       "      <td>1.000</td>\n",
       "      <td>49.99</td>\n",
       "      <td>0</td>\n",
       "      <td>46747</td>\n",
       "      <td>50567</td>\n",
       "      <td>49</td>\n",
       "      <td>106596</td>\n",
       "    </tr>\n",
       "    <tr>\n",
       "      <th>10887677</th>\n",
       "      <td>2017-09-05</td>\n",
       "      <td>0000000015</td>\n",
       "      <td>2.050</td>\n",
       "      <td>860.98</td>\n",
       "      <td>0</td>\n",
       "      <td>46747</td>\n",
       "      <td>99891</td>\n",
       "      <td>49</td>\n",
       "      <td>106596</td>\n",
       "    </tr>\n",
       "    <tr>\n",
       "      <th>10887675</th>\n",
       "      <td>2017-09-05</td>\n",
       "      <td>0000000016</td>\n",
       "      <td>1.000</td>\n",
       "      <td>189.89</td>\n",
       "      <td>0</td>\n",
       "      <td>46747</td>\n",
       "      <td>34011</td>\n",
       "      <td>49</td>\n",
       "      <td>106596</td>\n",
       "    </tr>\n",
       "    <tr>\n",
       "      <th>10887668</th>\n",
       "      <td>2017-09-05</td>\n",
       "      <td>0000000017</td>\n",
       "      <td>0.826</td>\n",
       "      <td>63.59</td>\n",
       "      <td>0</td>\n",
       "      <td>46747</td>\n",
       "      <td>87032</td>\n",
       "      <td>49</td>\n",
       "      <td>106596</td>\n",
       "    </tr>\n",
       "    <tr>\n",
       "      <th>10887671</th>\n",
       "      <td>2017-09-05</td>\n",
       "      <td>0000000018</td>\n",
       "      <td>1.000</td>\n",
       "      <td>62.89</td>\n",
       "      <td>1</td>\n",
       "      <td>46747</td>\n",
       "      <td>70431</td>\n",
       "      <td>49</td>\n",
       "      <td>106596</td>\n",
       "    </tr>\n",
       "  </tbody>\n",
       "</table>\n",
       "</div>"
      ],
      "text/plain": [
       "           chq_date chq_position  sales_count  sales_sum  is_promo  client_id  \\\n",
       "10887667 2017-09-05   0000000001        1.000     178.99         0      46747   \n",
       "10887673 2017-09-05   0000000002        1.000     182.99         0      46747   \n",
       "10887662 2017-09-05   0000000003        1.000      89.89         1      46747   \n",
       "10887670 2017-09-05   0000000004        1.000      89.89         1      46747   \n",
       "10887665 2017-09-05   0000000005        1.000      39.89         1      46747   \n",
       "10887674 2017-09-05   0000000006        0.340      16.11         0      46747   \n",
       "10887672 2017-09-05   0000000007        1.000     350.99         0      46747   \n",
       "10887676 2017-09-05   0000000008        1.000     289.89         0      46747   \n",
       "10887679 2017-09-05   0000000009        1.000     368.67         0      46747   \n",
       "10887678 2017-09-05   0000000010        1.000     369.39         0      46747   \n",
       "10887666 2017-09-05   0000000011        1.000     182.99         0      46747   \n",
       "10887663 2017-09-05   0000000012        2.000      94.98         0      46747   \n",
       "10887664 2017-09-05   0000000013        1.000     119.99         0      46747   \n",
       "10887669 2017-09-05   0000000014        1.000      49.99         0      46747   \n",
       "10887677 2017-09-05   0000000015        2.050     860.98         0      46747   \n",
       "10887675 2017-09-05   0000000016        1.000     189.89         0      46747   \n",
       "10887668 2017-09-05   0000000017        0.826      63.59         0      46747   \n",
       "10887671 2017-09-05   0000000018        1.000      62.89         1      46747   \n",
       "\n",
       "          material  plant  chq_id  \n",
       "10887667     59588     49  106596  \n",
       "10887673     82712     49  106596  \n",
       "10887662      7415     49  106596  \n",
       "10887670      7415     49  106596  \n",
       "10887665     90001     49  106596  \n",
       "10887674     40490     49  106596  \n",
       "10887672     21786     49  106596  \n",
       "10887676    104758     49  106596  \n",
       "10887679     92735     49  106596  \n",
       "10887678     92735     49  106596  \n",
       "10887666     82775     49  106596  \n",
       "10887663     33578     49  106596  \n",
       "10887664     69533     49  106596  \n",
       "10887669     50567     49  106596  \n",
       "10887677     99891     49  106596  \n",
       "10887675     34011     49  106596  \n",
       "10887668     87032     49  106596  \n",
       "10887671     70431     49  106596  "
      ]
     },
     "execution_count": 14,
     "metadata": {},
     "output_type": "execute_result"
    }
   ],
   "source": [
    "transactions[transactions['chq_id'] == 106596].sort_values(by='chq_position')"
   ]
  },
  {
   "cell_type": "markdown",
   "metadata": {},
   "source": [
    "Переведем chq_position в формат int."
   ]
  },
  {
   "cell_type": "code",
   "execution_count": 15,
   "metadata": {},
   "outputs": [],
   "source": [
    "transactions.chq_position = transactions.chq_position.astype(int)"
   ]
  },
  {
   "cell_type": "markdown",
   "metadata": {},
   "source": [
    "Посмотрим на данные is_promo."
   ]
  },
  {
   "cell_type": "code",
   "execution_count": 16,
   "metadata": {},
   "outputs": [
    {
     "data": {
      "text/plain": [
       "array([0, 1], dtype=int64)"
      ]
     },
     "execution_count": 16,
     "metadata": {},
     "output_type": "execute_result"
    }
   ],
   "source": [
    "transactions.is_promo.unique()"
   ]
  },
  {
   "cell_type": "markdown",
   "metadata": {},
   "source": [
    "Переведем их в boolean-формат."
   ]
  },
  {
   "cell_type": "code",
   "execution_count": 17,
   "metadata": {},
   "outputs": [],
   "source": [
    "transactions.is_promo = transactions.is_promo.astype(bool)"
   ]
  },
  {
   "cell_type": "markdown",
   "metadata": {},
   "source": [
    "Попробуем уменьшить размер типов данных float."
   ]
  },
  {
   "cell_type": "code",
   "execution_count": 18,
   "metadata": {},
   "outputs": [],
   "source": [
    "for col in ['sales_count', 'sales_sum']:\n",
    "    c_min = transactions[col].min()\n",
    "    c_max = transactions[col].max()\n",
    "    if c_min > np.finfo(np.float16).min and c_max < np.finfo(np.float16).max:\n",
    "        transactions[col] = transactions[col].astype(np.float16)\n",
    "    elif c_min > np.finfo(np.float32).min and c_max < np.finfo(np.float32).max:\n",
    "        transactions[col] = transactions[col].astype(np.float32)\n",
    "    else:\n",
    "        transactions[col] = transactions[col].astype(np.float64)  "
   ]
  },
  {
   "cell_type": "code",
   "execution_count": 19,
   "metadata": {},
   "outputs": [
    {
     "name": "stdout",
     "output_type": "stream",
     "text": [
      "<class 'pandas.core.frame.DataFrame'>\n",
      "Int64Index: 32109414 entries, 0 to 32109413\n",
      "Data columns (total 9 columns):\n",
      "chq_date        datetime64[ns]\n",
      "chq_position    int32\n",
      "sales_count     float16\n",
      "sales_sum       float32\n",
      "is_promo        bool\n",
      "client_id       int32\n",
      "material        int32\n",
      "plant           int16\n",
      "chq_id          int32\n",
      "dtypes: bool(1), datetime64[ns](1), float16(1), float32(1), int16(1), int32(4)\n",
      "memory usage: 1.2 GB\n"
     ]
    }
   ],
   "source": [
    "transactions.info()"
   ]
  },
  {
   "cell_type": "markdown",
   "metadata": {},
   "source": [
    "### Предобработка clients"
   ]
  },
  {
   "cell_type": "markdown",
   "metadata": {},
   "source": [
    "Посмотрим на данные birthyear."
   ]
  },
  {
   "cell_type": "code",
   "execution_count": 20,
   "metadata": {},
   "outputs": [
    {
     "data": {
      "text/plain": [
       "array([1990., 1969., 1976., 1966., 1988., 1987., 1997., 1948., 1984.,\n",
       "       1952., 1983., 1972., 1992., 2003., 1993., 1980., 1975., 1967.,\n",
       "       1963., 1946., 1970., 1991., 1957., 2005., 1982., 1986., 1989.,\n",
       "       1977., 1998., 1951., 1953., 1961., 1978., 1959., 1973., 1943.,\n",
       "       1958., 1964., 1954., 1955., 2002., 1994., 1962., 1981., 1949.,\n",
       "       1974.,   nan, 2001., 1979., 1956., 1960., 1995., 1968., 1934.,\n",
       "       1933., 1985., 1996., 1965., 1928., 1945., 2000., 1971., 1999.,\n",
       "       1947., 1944., 1950., 1939., 1937., 1940., 1912., 1936., 2006.,\n",
       "       1935., 1927., 1930., 1900., 1919., 1931., 1938., 1942., 1941.,\n",
       "       2011., 2004., 1932., 1917., 1922., 1925., 2049., 1911., 1923.,\n",
       "       1921., 2007., 2019., 1929., 2009., 2008., 2012., 2015., 1926.,\n",
       "       1918., 2016., 1915., 1914., 1901., 1920., 2010., 1913., 1909.])"
      ]
     },
     "execution_count": 20,
     "metadata": {},
     "output_type": "execute_result"
    }
   ],
   "source": [
    "clients.birthyear.unique()"
   ]
  },
  {
   "cell_type": "code",
   "execution_count": 21,
   "metadata": {},
   "outputs": [
    {
     "data": {
      "text/plain": [
       "1900.0"
      ]
     },
     "execution_count": 21,
     "metadata": {},
     "output_type": "execute_result"
    }
   ],
   "source": [
    "clients.birthyear.min()"
   ]
  },
  {
   "cell_type": "markdown",
   "metadata": {},
   "source": [
    "Временно заменим nan-значения birthyear на 1899 и преобразуем столбец в int-формат."
   ]
  },
  {
   "cell_type": "code",
   "execution_count": 22,
   "metadata": {},
   "outputs": [],
   "source": [
    "clients.birthyear.fillna(1899., inplace=True)\n",
    "clients.birthyear = clients.birthyear.astype(int)"
   ]
  },
  {
   "cell_type": "markdown",
   "metadata": {},
   "source": [
    "Посмотрим на данные gender."
   ]
  },
  {
   "cell_type": "code",
   "execution_count": 23,
   "metadata": {},
   "outputs": [
    {
     "data": {
      "text/plain": [
       "array(['M', 'F', nan], dtype=object)"
      ]
     },
     "execution_count": 23,
     "metadata": {},
     "output_type": "execute_result"
    }
   ],
   "source": [
    "clients.gender.unique()"
   ]
  },
  {
   "cell_type": "markdown",
   "metadata": {},
   "source": [
    "Временно заменим nan-значения gender на 0 и преобразуем столбец в int-формат."
   ]
  },
  {
   "cell_type": "code",
   "execution_count": 24,
   "metadata": {},
   "outputs": [],
   "source": [
    "clients.gender.fillna(0, inplace=True)\n",
    "clients.gender = clients.gender.astype('category').cat.codes"
   ]
  },
  {
   "cell_type": "markdown",
   "metadata": {},
   "source": [
    "Посмотрим на данные city."
   ]
  },
  {
   "cell_type": "code",
   "execution_count": 25,
   "metadata": {},
   "outputs": [
    {
     "data": {
      "text/plain": [
       "array(['Other', 'Moscow', 'St. Petersburg'], dtype=object)"
      ]
     },
     "execution_count": 25,
     "metadata": {},
     "output_type": "execute_result"
    }
   ],
   "source": [
    "clients.city.unique()"
   ]
  },
  {
   "cell_type": "markdown",
   "metadata": {},
   "source": [
    "Преобразуем столбец в категориальный формат. Категории городов также потребуются для преобразования данных plants."
   ]
  },
  {
   "cell_type": "code",
   "execution_count": 26,
   "metadata": {},
   "outputs": [],
   "source": [
    "city_ids = pd.DataFrame({'city':clients.city.drop_duplicates()})\n",
    "city_ids['num'] = city_ids['city'].astype('category').cat.codes\n",
    "clients = clients.merge(city_ids, how='left', on='city')\\\n",
    "                           .drop(columns='city')\\\n",
    "                           .rename(columns={'num':'city'})"
   ]
  },
  {
   "cell_type": "markdown",
   "metadata": {},
   "source": [
    "Проверим в transactions наличие данных по всем пользователям:"
   ]
  },
  {
   "cell_type": "code",
   "execution_count": 27,
   "metadata": {},
   "outputs": [
    {
     "name": "stdout",
     "output_type": "stream",
     "text": [
      "Клиенты с неизвестными данными:[83888 24874 42601 94757 57927]\n",
      "Количество транзакций неизвестных клиентов:1616\n"
     ]
    }
   ],
   "source": [
    "missing_clients = transactions[~transactions.client_id.isin(clients.client_id)].client_id.unique()\n",
    "print(f\"Клиенты с неизвестными данными:{missing_clients}\")\n",
    "print(f\"Количество транзакций неизвестных клиентов:{transactions[transactions.client_id.isin(missing_clients)].client_id.count()}\")"
   ]
  },
  {
   "cell_type": "markdown",
   "metadata": {},
   "source": [
    "Учитывая очень маленькое количество неизвестных клиентов и записей по ним, удалим их из данных."
   ]
  },
  {
   "cell_type": "code",
   "execution_count": 28,
   "metadata": {},
   "outputs": [],
   "source": [
    "transactions = transactions[transactions.client_id.isin(clients.client_id)]"
   ]
  },
  {
   "cell_type": "markdown",
   "metadata": {},
   "source": [
    "Для задачи потребуется информация о стоимости единицы товара. Для этого добавим дополнительный столбец price (стоимость единицы товара)."
   ]
  },
  {
   "cell_type": "code",
   "execution_count": 29,
   "metadata": {},
   "outputs": [],
   "source": [
    "transactions['price'] = transactions['sales_sum'] / transactions['sales_count']"
   ]
  },
  {
   "cell_type": "markdown",
   "metadata": {},
   "source": [
    "Результат обработки:"
   ]
  },
  {
   "cell_type": "code",
   "execution_count": 30,
   "metadata": {},
   "outputs": [
    {
     "name": "stdout",
     "output_type": "stream",
     "text": [
      "<class 'pandas.core.frame.DataFrame'>\n",
      "Int64Index: 32107798 entries, 0 to 32109413\n",
      "Data columns (total 10 columns):\n",
      "chq_date        datetime64[ns]\n",
      "chq_position    int32\n",
      "sales_count     float16\n",
      "sales_sum       float32\n",
      "is_promo        bool\n",
      "client_id       int32\n",
      "material        int32\n",
      "plant           int16\n",
      "chq_id          int32\n",
      "price           float32\n",
      "dtypes: bool(1), datetime64[ns](1), float16(1), float32(2), int16(1), int32(4)\n",
      "memory usage: 1.3 GB\n"
     ]
    }
   ],
   "source": [
    "transactions.info()"
   ]
  },
  {
   "cell_type": "code",
   "execution_count": 31,
   "metadata": {},
   "outputs": [
    {
     "name": "stdout",
     "output_type": "stream",
     "text": [
      "<class 'pandas.core.frame.DataFrame'>\n",
      "Int64Index: 99995 entries, 0 to 99994\n",
      "Data columns (total 4 columns):\n",
      "gender       99995 non-null int8\n",
      "birthyear    99995 non-null int32\n",
      "client_id    99995 non-null int32\n",
      "city         99995 non-null int8\n",
      "dtypes: int32(2), int8(2)\n",
      "memory usage: 1.7 MB\n"
     ]
    }
   ],
   "source": [
    "clients.info()"
   ]
  },
  {
   "cell_type": "markdown",
   "metadata": {},
   "source": [
    "### Предобработка materials"
   ]
  },
  {
   "cell_type": "markdown",
   "metadata": {},
   "source": [
    "Преобразуем столбцы с подкатегориями товара и производителями в категориальный формат."
   ]
  },
  {
   "cell_type": "code",
   "execution_count": 32,
   "metadata": {},
   "outputs": [],
   "source": [
    "materials.hier_level_1 = materials.hier_level_1.astype('category').cat.codes\n",
    "materials.hier_level_2 = materials.hier_level_2.astype('category').cat.codes\n",
    "materials.hier_level_3 = materials.hier_level_3.astype('category').cat.codes\n",
    "materials.hier_level_4 = materials.hier_level_4.astype('category').cat.codes"
   ]
  },
  {
   "cell_type": "code",
   "execution_count": 33,
   "metadata": {},
   "outputs": [],
   "source": [
    "materials.vendor = materials.vendor.astype('category').cat.codes"
   ]
  },
  {
   "cell_type": "markdown",
   "metadata": {},
   "source": [
    "Посмотрим на столбцы is_private_label, is_alco."
   ]
  },
  {
   "cell_type": "code",
   "execution_count": 34,
   "metadata": {},
   "outputs": [
    {
     "data": {
      "text/plain": [
       "array([0, 1], dtype=int64)"
      ]
     },
     "execution_count": 34,
     "metadata": {},
     "output_type": "execute_result"
    }
   ],
   "source": [
    "materials.is_private_label.unique()"
   ]
  },
  {
   "cell_type": "code",
   "execution_count": 35,
   "metadata": {},
   "outputs": [
    {
     "data": {
      "text/plain": [
       "array([0, 1], dtype=int64)"
      ]
     },
     "execution_count": 35,
     "metadata": {},
     "output_type": "execute_result"
    }
   ],
   "source": [
    "materials.is_alco.unique()"
   ]
  },
  {
   "cell_type": "markdown",
   "metadata": {},
   "source": [
    "Преобразуем их в формат boolean."
   ]
  },
  {
   "cell_type": "code",
   "execution_count": 36,
   "metadata": {},
   "outputs": [],
   "source": [
    "materials.is_private_label = materials.is_private_label.astype(bool)\n",
    "materials.is_alco = materials.is_alco.astype(bool)"
   ]
  },
  {
   "cell_type": "markdown",
   "metadata": {},
   "source": [
    "Проверим в transactions наличие данных по всем товарам:"
   ]
  },
  {
   "cell_type": "code",
   "execution_count": 37,
   "metadata": {},
   "outputs": [
    {
     "name": "stdout",
     "output_type": "stream",
     "text": [
      "Товары с неизвестными данными:[100875  39589  82163  71944  18615  71192  15655  53633 105683  71075\n",
      "  28318  40196  95433 105507  18963  86149  80837  79434  16381  82082\n",
      "  49961  93521  99073  35363  59542  60861  46026  66605    640  31925\n",
      "  96137  75809  41999  83754  99317  86393   6929  12433 104709  88527\n",
      "  53070  92119  71725  41336 104226  29569  41492   7622 101893  65099\n",
      "  83711  30717  41811  89172  11258  41434  19921  97082  96519 104774\n",
      "  39447  37517  36710  21241  55791  48164  56336  24778  94728  88477\n",
      "  11094  18273  18930  64782  75889  21926  74885  91168  83846   6926\n",
      "  79991  26307  77911 100613  50054]\n",
      "Количество транзакций с неизвестными товарами:13139\n"
     ]
    }
   ],
   "source": [
    "missing_materials = transactions[~transactions.material.isin(materials.material)].material.unique()\n",
    "print(f\"Товары с неизвестными данными:{missing_materials}\")\n",
    "print(f\"Количество транзакций с неизвестными товарами:{transactions[transactions.material.isin(missing_materials)].material.count()}\")"
   ]
  },
  {
   "cell_type": "markdown",
   "metadata": {},
   "source": [
    "Учитывая очень маленькое количество неизвестных товаров и записей по ним, удалим их из данных."
   ]
  },
  {
   "cell_type": "code",
   "execution_count": 38,
   "metadata": {},
   "outputs": [],
   "source": [
    "transactions = transactions[transactions.material.isin(materials.material)]"
   ]
  },
  {
   "cell_type": "markdown",
   "metadata": {},
   "source": [
    "Результат обработки:"
   ]
  },
  {
   "cell_type": "code",
   "execution_count": 39,
   "metadata": {},
   "outputs": [
    {
     "name": "stdout",
     "output_type": "stream",
     "text": [
      "<class 'pandas.core.frame.DataFrame'>\n",
      "Int64Index: 32094659 entries, 0 to 32109413\n",
      "Data columns (total 10 columns):\n",
      "chq_date        datetime64[ns]\n",
      "chq_position    int32\n",
      "sales_count     float16\n",
      "sales_sum       float32\n",
      "is_promo        bool\n",
      "client_id       int32\n",
      "material        int32\n",
      "plant           int16\n",
      "chq_id          int32\n",
      "price           float32\n",
      "dtypes: bool(1), datetime64[ns](1), float16(1), float32(2), int16(1), int32(4)\n",
      "memory usage: 1.3 GB\n"
     ]
    }
   ],
   "source": [
    "transactions.info()"
   ]
  },
  {
   "cell_type": "code",
   "execution_count": 40,
   "metadata": {},
   "outputs": [
    {
     "name": "stdout",
     "output_type": "stream",
     "text": [
      "<class 'pandas.core.frame.DataFrame'>\n",
      "Int64Index: 105609 entries, 0 to 105608\n",
      "Data columns (total 8 columns):\n",
      "hier_level_1        105609 non-null int8\n",
      "hier_level_2        105609 non-null int8\n",
      "hier_level_3        105609 non-null int16\n",
      "hier_level_4        105609 non-null int16\n",
      "vendor              105609 non-null int16\n",
      "is_private_label    105609 non-null bool\n",
      "is_alco             105609 non-null bool\n",
      "material            105609 non-null int32\n",
      "dtypes: bool(2), int16(3), int32(1), int8(2)\n",
      "memory usage: 2.2 MB\n"
     ]
    }
   ],
   "source": [
    "materials.info()"
   ]
  },
  {
   "cell_type": "markdown",
   "metadata": {},
   "source": [
    "### Предобработка plants"
   ]
  },
  {
   "cell_type": "markdown",
   "metadata": {},
   "source": [
    "Посмотрим на данные plant_type."
   ]
  },
  {
   "cell_type": "code",
   "execution_count": 41,
   "metadata": {},
   "outputs": [
    {
     "data": {
      "text/plain": [
       "array(['HM', 'SM'], dtype=object)"
      ]
     },
     "execution_count": 41,
     "metadata": {},
     "output_type": "execute_result"
    }
   ],
   "source": [
    "plants.plant_type.unique()"
   ]
  },
  {
   "cell_type": "markdown",
   "metadata": {},
   "source": [
    "Преобразуем их в категориальный формат"
   ]
  },
  {
   "cell_type": "code",
   "execution_count": 42,
   "metadata": {},
   "outputs": [],
   "source": [
    "plants.plant_type = plants.plant_type.astype('category').cat.codes"
   ]
  },
  {
   "cell_type": "markdown",
   "metadata": {},
   "source": [
    "Посмотрим на данные city."
   ]
  },
  {
   "cell_type": "code",
   "execution_count": 43,
   "metadata": {},
   "outputs": [
    {
     "data": {
      "text/plain": [
       "array(['St. Petersburg', 'Other', 'Moscow'], dtype=object)"
      ]
     },
     "execution_count": 43,
     "metadata": {},
     "output_type": "execute_result"
    }
   ],
   "source": [
    "plants.city.unique()"
   ]
  },
  {
   "cell_type": "markdown",
   "metadata": {},
   "source": [
    "Преобразуем их аналогично clients."
   ]
  },
  {
   "cell_type": "code",
   "execution_count": 44,
   "metadata": {},
   "outputs": [],
   "source": [
    "plants = plants.merge(city_ids, how='left', on='city')\\\n",
    "                           .drop(columns='city')\\\n",
    "                           .rename(columns={'num':'city'})"
   ]
  },
  {
   "cell_type": "markdown",
   "metadata": {},
   "source": [
    "Проверим в transactions наличие данных по всем магазинам:"
   ]
  },
  {
   "cell_type": "code",
   "execution_count": 45,
   "metadata": {},
   "outputs": [
    {
     "name": "stdout",
     "output_type": "stream",
     "text": [
      "Магазины с неизвестными данными:[]\n",
      "Количество транзакций в неизвестных магазинах:0\n"
     ]
    }
   ],
   "source": [
    "missing_plants = transactions[~transactions.plant.isin(plants.plant)].plant.unique()\n",
    "print(f\"Магазины с неизвестными данными:{missing_plants}\")\n",
    "print(f\"Количество транзакций в неизвестных магазинах:{transactions[transactions.plant.isin(missing_plants)].plant.count()}\")"
   ]
  },
  {
   "cell_type": "markdown",
   "metadata": {},
   "source": [
    "Результат обработки:"
   ]
  },
  {
   "cell_type": "code",
   "execution_count": 46,
   "metadata": {},
   "outputs": [
    {
     "name": "stdout",
     "output_type": "stream",
     "text": [
      "<class 'pandas.core.frame.DataFrame'>\n",
      "Int64Index: 32094659 entries, 0 to 32109413\n",
      "Data columns (total 10 columns):\n",
      "chq_date        datetime64[ns]\n",
      "chq_position    int32\n",
      "sales_count     float16\n",
      "sales_sum       float32\n",
      "is_promo        bool\n",
      "client_id       int32\n",
      "material        int32\n",
      "plant           int16\n",
      "chq_id          int32\n",
      "price           float32\n",
      "dtypes: bool(1), datetime64[ns](1), float16(1), float32(2), int16(1), int32(4)\n",
      "memory usage: 1.3 GB\n"
     ]
    }
   ],
   "source": [
    "transactions.info()"
   ]
  },
  {
   "cell_type": "code",
   "execution_count": 47,
   "metadata": {},
   "outputs": [
    {
     "name": "stdout",
     "output_type": "stream",
     "text": [
      "<class 'pandas.core.frame.DataFrame'>\n",
      "Int64Index: 388 entries, 0 to 387\n",
      "Data columns (total 3 columns):\n",
      "plant_type    388 non-null int8\n",
      "plant         388 non-null int16\n",
      "city          388 non-null int8\n",
      "dtypes: int16(1), int8(2)\n",
      "memory usage: 4.5 KB\n"
     ]
    }
   ],
   "source": [
    "plants.info()"
   ]
  },
  {
   "cell_type": "markdown",
   "metadata": {},
   "source": [
    "# 3. Сохранение данных"
   ]
  },
  {
   "cell_type": "markdown",
   "metadata": {},
   "source": [
    "Сохраним финальные данные в формате pickle для последующего использования. "
   ]
  },
  {
   "cell_type": "code",
   "execution_count": 48,
   "metadata": {},
   "outputs": [
    {
     "name": "stdout",
     "output_type": "stream",
     "text": [
      "Папка уже существует\n"
     ]
    }
   ],
   "source": [
    "path = str(workdir+'/data')\n",
    "if not os.path.isdir(path):\n",
    "    os.mkdir(path)\n",
    "    print('Папка успешно создана!')\n",
    "else:\n",
    "    print('Папка уже существует')"
   ]
  },
  {
   "cell_type": "code",
   "execution_count": 49,
   "metadata": {},
   "outputs": [],
   "source": [
    "transactions.to_pickle(path+'/transactions.pkl')\n",
    "clients.to_pickle(path+'/clients.pkl')\n",
    "materials.to_pickle(path+'/materials.pkl')\n",
    "plants.to_pickle(path+'/plants.pkl')"
   ]
  },
  {
   "cell_type": "markdown",
   "metadata": {},
   "source": [
    "Сведения о соответствии изначальных идентификаторов категорий и с их целочисленным форматом не требуются. В рамках данной задачи нет необходимости в возврате к первоначальным идентификаторам. Однако, на случай необходимости оставим в данном блокноте таблицу с идентификаторами городов."
   ]
  },
  {
   "cell_type": "code",
   "execution_count": 50,
   "metadata": {},
   "outputs": [
    {
     "data": {
      "text/html": [
       "<div>\n",
       "<style scoped>\n",
       "    .dataframe tbody tr th:only-of-type {\n",
       "        vertical-align: middle;\n",
       "    }\n",
       "\n",
       "    .dataframe tbody tr th {\n",
       "        vertical-align: top;\n",
       "    }\n",
       "\n",
       "    .dataframe thead th {\n",
       "        text-align: right;\n",
       "    }\n",
       "</style>\n",
       "<table border=\"1\" class=\"dataframe\">\n",
       "  <thead>\n",
       "    <tr style=\"text-align: right;\">\n",
       "      <th></th>\n",
       "      <th>city</th>\n",
       "      <th>num</th>\n",
       "    </tr>\n",
       "  </thead>\n",
       "  <tbody>\n",
       "    <tr>\n",
       "      <th>0</th>\n",
       "      <td>Other</td>\n",
       "      <td>1</td>\n",
       "    </tr>\n",
       "    <tr>\n",
       "      <th>3</th>\n",
       "      <td>Moscow</td>\n",
       "      <td>0</td>\n",
       "    </tr>\n",
       "    <tr>\n",
       "      <th>24</th>\n",
       "      <td>St. Petersburg</td>\n",
       "      <td>2</td>\n",
       "    </tr>\n",
       "  </tbody>\n",
       "</table>\n",
       "</div>"
      ],
      "text/plain": [
       "              city  num\n",
       "0            Other    1\n",
       "3           Moscow    0\n",
       "24  St. Petersburg    2"
      ]
     },
     "execution_count": 50,
     "metadata": {},
     "output_type": "execute_result"
    }
   ],
   "source": [
    "city_ids"
   ]
  }
 ],
 "metadata": {
  "kernelspec": {
   "display_name": "Python 3",
   "language": "python",
   "name": "python3"
  },
  "language_info": {
   "codemirror_mode": {
    "name": "ipython",
    "version": 3
   },
   "file_extension": ".py",
   "mimetype": "text/x-python",
   "name": "python",
   "nbconvert_exporter": "python",
   "pygments_lexer": "ipython3",
   "version": "3.6.10"
  }
 },
 "nbformat": 4,
 "nbformat_minor": 4
}
