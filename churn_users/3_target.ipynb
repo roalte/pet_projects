{
 "cells": [
  {
   "cell_type": "markdown",
   "metadata": {},
   "source": [
    "# ОПИСАНИЕ ЗАДАЧИ\n",
    "\n",
    "Данные:\n",
    "- чековые данные (transactions.parquet, для чтения через pandas дополнительно нужно установить библиотеку pyarrow)\n",
    "- справочник товаров (materials.csv)\n",
    "- справочник магазинов (plants.csv)\n",
    "- справочник клиентов (clients.csv)\n",
    "Более подробное описание данных дано в файле Data Description.\n",
    "\n",
    "Цель: \n",
    "1) проанализировать данные и определить оптимальную методологию определения отточных клиентов\n",
    "2) разработать модель вероятности оттока клиентов по выбранной вами методологии\n",
    "3) дать интерпретацию разработанной модели, ответить на вопросы: какие признаки наиболее влияют на отток клиентов"
   ]
  },
  {
   "cell_type": "markdown",
   "metadata": {},
   "source": [
    "# ЧАСТЬ 3. ФОРМИРОВАНИЕ ЦЕЛЕВОЙ ПЕРЕМЕННОЙ"
   ]
  },
  {
   "cell_type": "markdown",
   "metadata": {},
   "source": [
    "### Загрузка библиотек"
   ]
  },
  {
   "cell_type": "code",
   "execution_count": 8,
   "metadata": {},
   "outputs": [],
   "source": [
    "import pandas as pd\n",
    "from pathlib import Path\n",
    "import numpy as np\n",
    "import pickle\n",
    "import gc\n",
    "from statistics import mode\n",
    "from tqdm.notebook import tqdm\n",
    "\n",
    "\n",
    "pd.set_option('display.max_rows', 500)\n",
    "import warnings\n",
    "warnings.filterwarnings(\"ignore\")"
   ]
  },
  {
   "cell_type": "markdown",
   "metadata": {},
   "source": [
    "# 1. Загрузка данных"
   ]
  },
  {
   "cell_type": "code",
   "execution_count": 10,
   "metadata": {},
   "outputs": [],
   "source": [
    "workdir = str(Path().absolute())"
   ]
  },
  {
   "cell_type": "code",
   "execution_count": 11,
   "metadata": {},
   "outputs": [],
   "source": [
    "full = pd.read_pickle(workdir+'/data/full.pkl')"
   ]
  },
  {
   "cell_type": "markdown",
   "metadata": {},
   "source": [
    "Посмотрим на данные."
   ]
  },
  {
   "cell_type": "code",
   "execution_count": 12,
   "metadata": {},
   "outputs": [
    {
     "name": "stdout",
     "output_type": "stream",
     "text": [
      "<class 'pandas.core.frame.DataFrame'>\n",
      "Int64Index: 32094659 entries, 0 to 32094658\n",
      "Data columns (total 18 columns):\n",
      "chq_date            datetime64[ns]\n",
      "chq_position        int32\n",
      "sales_count         float16\n",
      "sales_sum           float32\n",
      "is_promo            bool\n",
      "client_id           int32\n",
      "material            int32\n",
      "plant               int16\n",
      "chq_id              int32\n",
      "price               float32\n",
      "hier_level_1        int8\n",
      "hier_level_2        int8\n",
      "hier_level_3        int16\n",
      "hier_level_4        int16\n",
      "vendor              int16\n",
      "is_private_label    bool\n",
      "is_alco             bool\n",
      "plant_type          int8\n",
      "dtypes: bool(3), datetime64[ns](1), float16(1), float32(2), int16(4), int32(4), int8(3)\n",
      "memory usage: 1.7 GB\n"
     ]
    }
   ],
   "source": [
    "full.info()"
   ]
  },
  {
   "cell_type": "code",
   "execution_count": 13,
   "metadata": {},
   "outputs": [
    {
     "name": "stdout",
     "output_type": "stream",
     "text": [
      "********************************************************************************\n",
      "full:\n"
     ]
    },
    {
     "data": {
      "text/html": [
       "<div>\n",
       "<style scoped>\n",
       "    .dataframe tbody tr th:only-of-type {\n",
       "        vertical-align: middle;\n",
       "    }\n",
       "\n",
       "    .dataframe tbody tr th {\n",
       "        vertical-align: top;\n",
       "    }\n",
       "\n",
       "    .dataframe thead th {\n",
       "        text-align: right;\n",
       "    }\n",
       "</style>\n",
       "<table border=\"1\" class=\"dataframe\">\n",
       "  <thead>\n",
       "    <tr style=\"text-align: right;\">\n",
       "      <th></th>\n",
       "      <th>chq_date</th>\n",
       "      <th>chq_position</th>\n",
       "      <th>sales_count</th>\n",
       "      <th>sales_sum</th>\n",
       "      <th>is_promo</th>\n",
       "      <th>client_id</th>\n",
       "      <th>material</th>\n",
       "      <th>plant</th>\n",
       "      <th>chq_id</th>\n",
       "      <th>price</th>\n",
       "      <th>hier_level_1</th>\n",
       "      <th>hier_level_2</th>\n",
       "      <th>hier_level_3</th>\n",
       "      <th>hier_level_4</th>\n",
       "      <th>vendor</th>\n",
       "      <th>is_private_label</th>\n",
       "      <th>is_alco</th>\n",
       "      <th>plant_type</th>\n",
       "    </tr>\n",
       "  </thead>\n",
       "  <tbody>\n",
       "    <tr>\n",
       "      <th>0</th>\n",
       "      <td>2016-11-01</td>\n",
       "      <td>4</td>\n",
       "      <td>2.0</td>\n",
       "      <td>146.979996</td>\n",
       "      <td>False</td>\n",
       "      <td>56437</td>\n",
       "      <td>14213</td>\n",
       "      <td>179</td>\n",
       "      <td>2390608</td>\n",
       "      <td>73.489998</td>\n",
       "      <td>0</td>\n",
       "      <td>32</td>\n",
       "      <td>130</td>\n",
       "      <td>936</td>\n",
       "      <td>2736</td>\n",
       "      <td>False</td>\n",
       "      <td>False</td>\n",
       "      <td>0</td>\n",
       "    </tr>\n",
       "    <tr>\n",
       "      <th>1</th>\n",
       "      <td>2016-11-01</td>\n",
       "      <td>3</td>\n",
       "      <td>1.0</td>\n",
       "      <td>249.990005</td>\n",
       "      <td>True</td>\n",
       "      <td>56437</td>\n",
       "      <td>7629</td>\n",
       "      <td>179</td>\n",
       "      <td>2390608</td>\n",
       "      <td>249.990005</td>\n",
       "      <td>0</td>\n",
       "      <td>10</td>\n",
       "      <td>305</td>\n",
       "      <td>1103</td>\n",
       "      <td>2278</td>\n",
       "      <td>False</td>\n",
       "      <td>False</td>\n",
       "      <td>0</td>\n",
       "    </tr>\n",
       "    <tr>\n",
       "      <th>2</th>\n",
       "      <td>2016-11-01</td>\n",
       "      <td>12</td>\n",
       "      <td>1.0</td>\n",
       "      <td>47.990002</td>\n",
       "      <td>True</td>\n",
       "      <td>56437</td>\n",
       "      <td>7264</td>\n",
       "      <td>179</td>\n",
       "      <td>2390608</td>\n",
       "      <td>47.990002</td>\n",
       "      <td>0</td>\n",
       "      <td>13</td>\n",
       "      <td>81</td>\n",
       "      <td>3</td>\n",
       "      <td>2715</td>\n",
       "      <td>False</td>\n",
       "      <td>True</td>\n",
       "      <td>0</td>\n",
       "    </tr>\n",
       "    <tr>\n",
       "      <th>3</th>\n",
       "      <td>2016-11-01</td>\n",
       "      <td>13</td>\n",
       "      <td>1.0</td>\n",
       "      <td>47.990002</td>\n",
       "      <td>True</td>\n",
       "      <td>56437</td>\n",
       "      <td>7264</td>\n",
       "      <td>179</td>\n",
       "      <td>2390608</td>\n",
       "      <td>47.990002</td>\n",
       "      <td>0</td>\n",
       "      <td>13</td>\n",
       "      <td>81</td>\n",
       "      <td>3</td>\n",
       "      <td>2715</td>\n",
       "      <td>False</td>\n",
       "      <td>True</td>\n",
       "      <td>0</td>\n",
       "    </tr>\n",
       "    <tr>\n",
       "      <th>4</th>\n",
       "      <td>2016-11-01</td>\n",
       "      <td>11</td>\n",
       "      <td>2.0</td>\n",
       "      <td>53.980000</td>\n",
       "      <td>True</td>\n",
       "      <td>56437</td>\n",
       "      <td>35784</td>\n",
       "      <td>179</td>\n",
       "      <td>2390608</td>\n",
       "      <td>26.990000</td>\n",
       "      <td>0</td>\n",
       "      <td>32</td>\n",
       "      <td>383</td>\n",
       "      <td>1775</td>\n",
       "      <td>1221</td>\n",
       "      <td>False</td>\n",
       "      <td>False</td>\n",
       "      <td>0</td>\n",
       "    </tr>\n",
       "  </tbody>\n",
       "</table>\n",
       "</div>"
      ],
      "text/plain": [
       "    chq_date  chq_position  sales_count   sales_sum  is_promo  client_id  \\\n",
       "0 2016-11-01             4          2.0  146.979996     False      56437   \n",
       "1 2016-11-01             3          1.0  249.990005      True      56437   \n",
       "2 2016-11-01            12          1.0   47.990002      True      56437   \n",
       "3 2016-11-01            13          1.0   47.990002      True      56437   \n",
       "4 2016-11-01            11          2.0   53.980000      True      56437   \n",
       "\n",
       "   material  plant   chq_id       price  hier_level_1  hier_level_2  \\\n",
       "0     14213    179  2390608   73.489998             0            32   \n",
       "1      7629    179  2390608  249.990005             0            10   \n",
       "2      7264    179  2390608   47.990002             0            13   \n",
       "3      7264    179  2390608   47.990002             0            13   \n",
       "4     35784    179  2390608   26.990000             0            32   \n",
       "\n",
       "   hier_level_3  hier_level_4  vendor  is_private_label  is_alco  plant_type  \n",
       "0           130           936    2736             False    False           0  \n",
       "1           305          1103    2278             False    False           0  \n",
       "2            81             3    2715             False     True           0  \n",
       "3            81             3    2715             False     True           0  \n",
       "4           383          1775    1221             False    False           0  "
      ]
     },
     "metadata": {},
     "output_type": "display_data"
    }
   ],
   "source": [
    "print(80*'*')\n",
    "print('full:')\n",
    "display(full.head())"
   ]
  },
  {
   "cell_type": "markdown",
   "metadata": {},
   "source": [
    "# 2. Выбор стратегии"
   ]
  },
  {
   "cell_type": "markdown",
   "metadata": {},
   "source": [
    "### 2.1. Целевая переменная"
   ]
  },
  {
   "cell_type": "markdown",
   "metadata": {},
   "source": [
    "Целевая переменная представляет собой двоичную классифицию клиента по состоянию \"активность\" / \"отток\":\n",
    "* 0 - активный клиент\n",
    "* 1 - отточный клиент\n",
    "\n",
    "Стратегия определения отточного клиента в известных данных:\n",
    "* _Группа 1: Клиенты, переставшие покупать._ Клиент, не сделавший покупок в течение 31 дней, считается отточным в течение этого обозреваемого периода. Период в 31 дней позволит учитывать активность клиентов, делающих покупки раз в месяц, и клиентов, находящихся в месячном отпуске. \n",
    "* _Группа 2: Клиенты, ставшие покупать меньше._ Например, это могут быть клиенты, которых больше не устраивают условия (ассортимент товаров, ценовая политика, обслуживание), но они продолжают совершать небольшие покупки из-за удобства расположения магазина. Это менее различимая группа. Но можно попробовать находить хотя бы часть таких клиентов. Если клиент, в течение 31 дней, делал покупки на общую ежедневную сумму ниже пороговой суммы, то он считается отточным в течение этого обозреваемого периода. Поиск оптимальной пороговой суммы представляется трудоемким и длительным процессом, выходящим за рамки данной задачи. Поэтому сделаем его очень низким: пороговая сумма будет определяться для клиента как 25% от средней суммы ежедневных покупок за весь известный период."
   ]
  },
  {
   "cell_type": "markdown",
   "metadata": {},
   "source": [
    "### 2.2. Возможные ошибки классификации"
   ]
  },
  {
   "cell_type": "markdown",
   "metadata": {},
   "source": [
    "* Клиенты, делающие покупки раз в месяц, сделали две соседние покупки с интервалом более 31 дней. Данную ошибку можно избежать, анализируя активность клиентов за прошедшие 2 месяца. Однако, в рамках текущей задачи эта возможная ошибка классификации не учитывается в связи с нехваткой аппаратных ресурсов.\n",
    "* Для клиентов, активных в первый месяц собранных данных, условно считаем, что они ничего не покупали в течение 31 дней. Однако, в реальности это могли быть уже активные клиенты. Просто мы не видим их ранние данные. В рамках текущей задачи эта возможная ошибка классификации не учитывается. Ее можно было бы избежать отсечением первых 31 дней в тестовых данных.\n",
    "* Если до первого дня активности клиент не был активен более 31 дня, то этот период считается отточным для клиента. Однако, в реальности это мог быть клиент, впервые сделавший покупку (новый клиент). В рамках текущей задачи эта возможная ошибка классификации не учитывается из-за недостатка информации по данным."
   ]
  },
  {
   "cell_type": "markdown",
   "metadata": {},
   "source": [
    "### 2.3. Методика прогнозирования вероятности оттока клиентов"
   ]
  },
  {
   "cell_type": "markdown",
   "metadata": {},
   "source": [
    "В качестве стратегии прогнозирования отточных клиентов выбирается построение таблицы еженедневной активности клиентов. Для каждого дня агрегируются данные по общим предпочтениям клиента (портрет клиента) и его активности за предыдущие периоды до 31 дней. Прогноз вероятности оттока делается для текущего дня.\n",
    "\n",
    "Модель прогнозирования будет построена при помощи машинного обучения. Будут обучены и протестированы несколько популярных моделей классификации из пакета scikit-learn с функционалом predict_proba (предсказание вероятности) и на базовых гиперпараметрах:\n",
    "* AdaBoostClassifier\n",
    "* BaggingClassifier\n",
    "* DecisionTreeClassifier\n",
    "* GradientBoostingClassifier\n",
    "* KNeighborsClassifier\n",
    "* LogisticRegression\n",
    "* RandomForestClassifier\n",
    "\n",
    "Далее несколько самых точных моделей будут обучены и протестированы с оптимальными гиперпараметрами.\n",
    "\n",
    "Поскольку задача состоит в том, чтобы корректно идентифицировать отточных клиентов, требуется максимизировать получение True Positive результатов классификации. Мы можем исключить False Positive ошибки (клиенты, которые, были классифицированы отточными, но этого не произошло), поскольку они не так важны.\n",
    "Кроме того, требуется минимизировать False Negative ошибку (клиенты, которые, были классифицированы как активные, но они ушли). В этом случае мы можем потерять этих клиентов из-за ошибки.\n",
    "\n",
    "Соответственно, основные задачи построения моделей: максимизация True Positive и минимизация False Negative.\n",
    "\n",
    "Метрики оптимизации моделей:\n",
    "* Кривая ROC-AUC\n",
    "* Confusion Matrix"
   ]
  },
  {
   "cell_type": "markdown",
   "metadata": {},
   "source": [
    "# 3. Формирование целевой переменной"
   ]
  },
  {
   "cell_type": "markdown",
   "metadata": {},
   "source": [
    "### 3.1. Базовая таблица ежедневной активности клиентов"
   ]
  },
  {
   "cell_type": "markdown",
   "metadata": {},
   "source": [
    "Создадим базовую таблицу ежедневной активности клиентов.\n",
    "\n",
    "Для определения отточных клиентов 1 группы потребуется признак активности клиента 'is_active' (1 - есть покупки в текущий день, 0 - нет покупок). Для определения отточных клиентов 2 группы потребуется признак высокой активности клиента 'is_high_active' (1 - количество покупок выше порога в текущий день, 0 - ниже или равны порогу)."
   ]
  },
  {
   "cell_type": "code",
   "execution_count": 14,
   "metadata": {
    "scrolled": true
   },
   "outputs": [
    {
     "data": {
      "application/vnd.jupyter.widget-view+json": {
       "model_id": "b082cdd877814f1c8ba393e79074f1bb",
       "version_major": 2,
       "version_minor": 0
      },
      "text/plain": [
       "HBox(children=(FloatProgress(value=0.0, max=99995.0), HTML(value='')))"
      ]
     },
     "metadata": {},
     "output_type": "display_data"
    },
    {
     "name": "stdout",
     "output_type": "stream",
     "text": [
      "\n"
     ]
    }
   ],
   "source": [
    "days = pd.date_range(full.chq_date.min(), full.chq_date.max(), freq='D')\n",
    "ROLL_MONTH = 31\n",
    "df_list = []\n",
    "tmp = full[['chq_date', 'client_id', 'chq_id', 'sales_sum']]\n",
    "all_clients = tmp.client_id.unique()\n",
    "\n",
    "with tqdm (total=full.client_id.nunique()) as pbar:\n",
    "    for client in all_clients:\n",
    "        result = pd.DataFrame({'chq_date':days, 'client_id':client})\n",
    "        tmp2 = tmp[tmp.client_id==client]\n",
    "        \n",
    "        # Создание целевой переменной для 1 группы отточных клиентов\n",
    "        tmp3 = tmp2.groupby(['chq_date'])['chq_id'].nunique().rename('chq_count_today').reset_index()\n",
    "        result = result.merge(tmp3, how='left', on=['chq_date']).fillna(0)\n",
    "        result['is_active'] = np.where(result['chq_count_today']>0, 1, 0)\n",
    "        \n",
    "        # Итерируем по всем строкам и рассчитываем целевую переменную по 1 группе\n",
    "        result['is_churn_grp1'] = np.NaN\n",
    "        inactive_streak = 0\n",
    "        index_list = []\n",
    "        for index, row in result.iterrows():\n",
    "            index_list.append(index)\n",
    "            if ((row['is_active'] == 1) & (inactive_streak < ROLL_MONTH)):\n",
    "                for i in index_list:\n",
    "                    result.at[i, 'is_churn_grp1'] = 0\n",
    "                inactive_streak = 0\n",
    "                index_list = []\n",
    "            elif ((row['is_active'] == 1) & (inactive_streak >= ROLL_MONTH)):\n",
    "                for i in index_list:\n",
    "                    result.at[i, 'is_churn_grp1'] = 1\n",
    "                result.at[index, 'is_churn_grp1'] = 0\n",
    "                inactive_streak = 0\n",
    "                index_list = []\n",
    "            elif ((row['is_active'] == 0) & (inactive_streak < ROLL_MONTH)):\n",
    "                inactive_streak = inactive_streak + 1\n",
    "            elif ((row['is_active'] == 0) & (inactive_streak >= ROLL_MONTH)):\n",
    "                inactive_streak = inactive_streak + 1\n",
    "                for i in index_list:\n",
    "                    result.at[i, 'is_churn_grp1'] = 1\n",
    "                index_list = []        \n",
    "\n",
    "        # Создание целевой переменной для 2 группы отточных клиентов\n",
    "        threshold = tmp2.groupby([pd.Grouper(key='chq_date', freq='1D')])['sales_sum']\\\n",
    "                .sum()\\\n",
    "                .rename('sum_today')\\\n",
    "                .reset_index()['sum_today']\\\n",
    "                .replace(0, np.NaN)\\\n",
    "                .mean()*0.25\n",
    "        tmp3 = tmp2.groupby('chq_date')['sales_sum']\\\n",
    "                .sum()\\\n",
    "                .rename('sum_today')\\\n",
    "                .reset_index()\n",
    "        result = result.merge(tmp3, how='left', on=['chq_date']).fillna(0)\n",
    "        result['is_high_active'] = result['sum_today'].apply(lambda x: 1 if x>threshold else 0)\n",
    "        \n",
    "        # Итерируем по всем строкам и рассчитываем целевую переменную по 2 группе\n",
    "        result['is_churn_grp2'] = np.NaN\n",
    "        inactive_streak = 0\n",
    "        index_list = []\n",
    "        for index, row in result.iterrows():\n",
    "            index_list.append(index)\n",
    "            if ((row['is_high_active'] == 1) & (inactive_streak < ROLL_MONTH)):\n",
    "                for i in index_list:\n",
    "                    result.at[i, 'is_churn_grp2'] = 0\n",
    "                inactive_streak = 0\n",
    "                index_list = []\n",
    "            elif ((row['is_high_active'] == 1) & (inactive_streak >= ROLL_MONTH)):\n",
    "                for i in index_list:\n",
    "                    result.at[i, 'is_churn_grp2'] = 1\n",
    "                result.at[index, 'is_churn_grp2'] = 0\n",
    "                inactive_streak = 0\n",
    "                index_list = []\n",
    "            elif ((row['is_high_active'] == 0) & (inactive_streak < ROLL_MONTH)):\n",
    "                inactive_streak = inactive_streak + 1\n",
    "            elif ((row['is_high_active'] == 0) & (inactive_streak >= ROLL_MONTH)):\n",
    "                inactive_streak = inactive_streak + 1\n",
    "                for i in index_list:\n",
    "                    result.at[i, 'is_churn_grp2'] = 1\n",
    "                index_list = []        \n",
    "\n",
    "        df_list.append(result)\n",
    "        pbar.update()\n",
    "data = pd.concat(df_list, axis=0, ignore_index=True)\n",
    "data['is_churn'] = data[['is_churn_grp1', 'is_churn_grp2']].max(axis=1)\n",
    "data = data.drop(columns=['is_churn_grp1', 'is_churn_grp2'])"
   ]
  },
  {
   "cell_type": "markdown",
   "metadata": {},
   "source": [
    "### Результат"
   ]
  },
  {
   "cell_type": "code",
   "execution_count": 42,
   "metadata": {},
   "outputs": [
    {
     "data": {
      "text/html": [
       "<div>\n",
       "<style scoped>\n",
       "    .dataframe tbody tr th:only-of-type {\n",
       "        vertical-align: middle;\n",
       "    }\n",
       "\n",
       "    .dataframe tbody tr th {\n",
       "        vertical-align: top;\n",
       "    }\n",
       "\n",
       "    .dataframe thead th {\n",
       "        text-align: right;\n",
       "    }\n",
       "</style>\n",
       "<table border=\"1\" class=\"dataframe\">\n",
       "  <thead>\n",
       "    <tr style=\"text-align: right;\">\n",
       "      <th></th>\n",
       "      <th>chq_date</th>\n",
       "      <th>client_id</th>\n",
       "      <th>chq_count_today</th>\n",
       "      <th>is_active</th>\n",
       "      <th>sum_today</th>\n",
       "      <th>is_high_active</th>\n",
       "      <th>is_churn</th>\n",
       "    </tr>\n",
       "  </thead>\n",
       "  <tbody>\n",
       "    <tr>\n",
       "      <th>0</th>\n",
       "      <td>2016-10-04</td>\n",
       "      <td>56437</td>\n",
       "      <td>0.0</td>\n",
       "      <td>0</td>\n",
       "      <td>0.0</td>\n",
       "      <td>0</td>\n",
       "      <td>0.0</td>\n",
       "    </tr>\n",
       "    <tr>\n",
       "      <th>1</th>\n",
       "      <td>2016-10-05</td>\n",
       "      <td>56437</td>\n",
       "      <td>0.0</td>\n",
       "      <td>0</td>\n",
       "      <td>0.0</td>\n",
       "      <td>0</td>\n",
       "      <td>0.0</td>\n",
       "    </tr>\n",
       "    <tr>\n",
       "      <th>2</th>\n",
       "      <td>2016-10-06</td>\n",
       "      <td>56437</td>\n",
       "      <td>0.0</td>\n",
       "      <td>0</td>\n",
       "      <td>0.0</td>\n",
       "      <td>0</td>\n",
       "      <td>0.0</td>\n",
       "    </tr>\n",
       "    <tr>\n",
       "      <th>3</th>\n",
       "      <td>2016-10-07</td>\n",
       "      <td>56437</td>\n",
       "      <td>0.0</td>\n",
       "      <td>0</td>\n",
       "      <td>0.0</td>\n",
       "      <td>0</td>\n",
       "      <td>0.0</td>\n",
       "    </tr>\n",
       "    <tr>\n",
       "      <th>4</th>\n",
       "      <td>2016-10-08</td>\n",
       "      <td>56437</td>\n",
       "      <td>0.0</td>\n",
       "      <td>0</td>\n",
       "      <td>0.0</td>\n",
       "      <td>0</td>\n",
       "      <td>0.0</td>\n",
       "    </tr>\n",
       "  </tbody>\n",
       "</table>\n",
       "</div>"
      ],
      "text/plain": [
       "    chq_date  client_id  chq_count_today  is_active  sum_today  \\\n",
       "0 2016-10-04      56437              0.0          0        0.0   \n",
       "1 2016-10-05      56437              0.0          0        0.0   \n",
       "2 2016-10-06      56437              0.0          0        0.0   \n",
       "3 2016-10-07      56437              0.0          0        0.0   \n",
       "4 2016-10-08      56437              0.0          0        0.0   \n",
       "\n",
       "   is_high_active  is_churn  \n",
       "0               0       0.0  \n",
       "1               0       0.0  \n",
       "2               0       0.0  \n",
       "3               0       0.0  \n",
       "4               0       0.0  "
      ]
     },
     "execution_count": 42,
     "metadata": {},
     "output_type": "execute_result"
    }
   ],
   "source": [
    "data.head()"
   ]
  },
  {
   "cell_type": "code",
   "execution_count": 43,
   "metadata": {},
   "outputs": [
    {
     "name": "stdout",
     "output_type": "stream",
     "text": [
      "<class 'pandas.core.frame.DataFrame'>\n",
      "RangeIndex: 36598170 entries, 0 to 36598169\n",
      "Data columns (total 7 columns):\n",
      "chq_date           datetime64[ns]\n",
      "client_id          int64\n",
      "chq_count_today    float64\n",
      "is_active          int32\n",
      "sum_today          float32\n",
      "is_high_active     int64\n",
      "is_churn           float64\n",
      "dtypes: datetime64[ns](1), float32(1), float64(2), int32(1), int64(2)\n",
      "memory usage: 1.6 GB\n"
     ]
    }
   ],
   "source": [
    "data.info()"
   ]
  },
  {
   "cell_type": "markdown",
   "metadata": {},
   "source": [
    "# 4. Сохранение данных"
   ]
  },
  {
   "cell_type": "markdown",
   "metadata": {},
   "source": [
    "Сохраним финальные данные в формате pickle для последующего использования."
   ]
  },
  {
   "cell_type": "code",
   "execution_count": 15,
   "metadata": {},
   "outputs": [
    {
     "name": "stdout",
     "output_type": "stream",
     "text": [
      "Папка уже существует\n"
     ]
    }
   ],
   "source": [
    "path = str(workdir+'/data')\n",
    "if not os.path.isdir(path):\n",
    "    os.mkdir(path)\n",
    "    print('Папка успешно создана!')\n",
    "else:\n",
    "    print('Папка уже существует')"
   ]
  },
  {
   "cell_type": "code",
   "execution_count": 16,
   "metadata": {},
   "outputs": [],
   "source": [
    "full.to_pickle(path+'/full.pkl')\n",
    "data.to_pickle(path+'/target.pkl')"
   ]
  }
 ],
 "metadata": {
  "kernelspec": {
   "display_name": "Python 3",
   "language": "python",
   "name": "python3"
  },
  "language_info": {
   "codemirror_mode": {
    "name": "ipython",
    "version": 3
   },
   "file_extension": ".py",
   "mimetype": "text/x-python",
   "name": "python",
   "nbconvert_exporter": "python",
   "pygments_lexer": "ipython3",
   "version": "3.6.10"
  }
 },
 "nbformat": 4,
 "nbformat_minor": 4
}
