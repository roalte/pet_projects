{
 "cells": [
  {
   "cell_type": "markdown",
   "metadata": {},
   "source": [
    "# Задача: Предсказание 3-х самых вероятных категорий (тэгов) для новостей\n",
    "\n",
    "Работать будем с датасетом новостей с РИА-новости за 2018 год. \n",
    "Каждой новости в соотвествие поставлены ключевые слова - категории новости. Требуется научиться предсказывать категории по тексту новости. Будем предсказывать для каждой новости три самых вероятных категории."
   ]
  },
  {
   "cell_type": "markdown",
   "metadata": {},
   "source": [
    "### 1. Подгрузка библиотек и данных "
   ]
  },
  {
   "cell_type": "code",
   "execution_count": 3,
   "metadata": {},
   "outputs": [
    {
     "name": "stderr",
     "output_type": "stream",
     "text": [
      "Using TensorFlow backend.\n"
     ]
    }
   ],
   "source": [
    "import pandas as pd  # для таблиц\n",
    "import numpy as np   # для матриц\n",
    "\n",
    "# визуализация \n",
    "import matplotlib.pyplot as plt\n",
    "import seaborn as sns\n",
    "plt.style.use('ggplot')\n",
    "%matplotlib inline\n",
    "\n",
    "import re # библиотека для регулярных выражений\n",
    "\n",
    "# лемматизатор\n",
    "import pymorphy2\n",
    "morph = pymorphy2.MorphAnalyzer()\n",
    "\n",
    "# список стоп-слов\n",
    "import nltk\n",
    "stopwords = set([word for word in nltk.corpus.stopwords.words('russian') if word != 'не'])\n",
    "\n",
    "# удобный словарь\n",
    "from collections import defaultdict\n",
    "\n",
    "# слои для нейронок, которые нам пригодятся \n",
    "from keras.models import Sequential\n",
    "from keras.layers import Dense, LSTM, Dropout, Conv1D, MaxPooling1D\n",
    "from keras.layers.embeddings import Embedding\n",
    "from keras.preprocessing import sequence"
   ]
  },
  {
   "cell_type": "code",
   "execution_count": 4,
   "metadata": {},
   "outputs": [],
   "source": [
    "# путь к рабочей папке\n",
    "import pathlib\n",
    "workdir = pathlib.Path().absolute()\n",
    "\n",
    "# отключаем warning-и\n",
    "import warnings\n",
    "warnings.filterwarnings('ignore')"
   ]
  },
  {
   "cell_type": "code",
   "execution_count": 5,
   "metadata": {},
   "outputs": [],
   "source": [
    "import pickle\n",
    "with open(f'{workdir}/text_news_twitter/ria_news_2018.pickle', 'rb') as f:\n",
    "    ria_news = pickle.load(f, encoding='utf-8')"
   ]
  },
  {
   "cell_type": "code",
   "execution_count": 29,
   "metadata": {},
   "outputs": [
    {
     "data": {
      "text/plain": [
       "{'category': '',\n",
       " 'date': '2018-12-31',\n",
       " 'day': '31',\n",
       " 'href': '/20181231/1548961337.html',\n",
       " 'image': 'https://cdn25.img.ria.ru/images/rsport/113508/49/1135084902_0:0:3000:1688_1036x0_80_0_0_a23eb1a67591477fba1ccd2840e9f955.jpg',\n",
       " 'keywords': 'фк арсенал (лондон)',\n",
       " 'month': '12',\n",
       " 'shows': '183',\n",
       " 'snippet': 'Полузащитник лондонского \"Арсенала\" Аарон Рэмзи рассматривает пять вариантов продолжения карьеры, футболист намерен начать переговоры о переходе в другой клуб в Спорт РИА Новости, 31.12.2018',\n",
       " 'tags': 'ФК Арсенал (Лондон)',\n",
       " 'text': 'МОСКВА, 31 дек - РИА Новости. Полузащитник лондонского \"Арсенала\" Аарон Рэмзи рассматривает пять вариантов продолжения карьеры, футболист намерен начать переговоры о переходе в другой клуб в январе, сообщает Би-би-си. Срок контракта 28-летнего валлийского хавбека с \"канонирами\" истекает в конце июня текущего года. Стороны не смогли достичь договоренности о продлении соглашения. Как отмечается в материале, Рэмси намерен вести переговоры с немецкой \"Баварией\", итальянскими \"Интером\" и \"Ювентусом\", французским \"Пари Сен-Жермен\" и испанским \"Реалом\". Рэмзи с 2008 года защищает цвета \"Арсенала\", который отдавал футболиста в аренду в \"Ноттингем Форест\" и \"Кардифф Сити\". Футболист провел более 350 матчей за \"Арсенал\", в составе \"канониров\" стал трехкратным обладателем Кубка Англии.',\n",
       " 'time': '31 декабря 2018, 23:12',\n",
       " 'title': 'Аарон Рэмзи проведет переговоры с пятью топ-клубами, сообщают СМИ ',\n",
       " 'year': '2018'}"
      ]
     },
     "execution_count": 29,
     "metadata": {},
     "output_type": "execute_result"
    }
   ],
   "source": [
    "ria_news[2]"
   ]
  },
  {
   "cell_type": "markdown",
   "metadata": {},
   "source": [
    "### 2. Предобработка категорий\n",
    "Для дальнейшей работы отфильтруем категории, удалив самые редкие."
   ]
  },
  {
   "cell_type": "code",
   "execution_count": 10,
   "metadata": {},
   "outputs": [],
   "source": [
    "category = [news['category'] for news in ria_news]"
   ]
  },
  {
   "cell_type": "code",
   "execution_count": 32,
   "metadata": {
    "scrolled": true
   },
   "outputs": [
    {
     "data": {
      "text/plain": [
       "{'',\n",
       " 'Акценты - Радио Sputnik',\n",
       " 'АртВывих',\n",
       " 'В мире',\n",
       " 'Видеоблоги - Радио Sputnik',\n",
       " 'Инфографика',\n",
       " 'Культура',\n",
       " 'Навигатор абитуриента',\n",
       " 'Наука',\n",
       " 'Недвижимость',\n",
       " 'Общество',\n",
       " 'Политика',\n",
       " 'Программы - Радио Sputnik',\n",
       " 'Происшествия',\n",
       " 'Радио',\n",
       " 'Религия',\n",
       " 'Сказано в эфире - Радио Sputnik',\n",
       " 'Социальный навигатор',\n",
       " 'Спецпроекты - Радио Sputnik',\n",
       " 'Спорт',\n",
       " 'Теория заблуждений',\n",
       " 'Туризм',\n",
       " 'Экономика'}"
      ]
     },
     "execution_count": 32,
     "metadata": {},
     "output_type": "execute_result"
    }
   ],
   "source": [
    "cat_uniq = set(category)\n",
    "cat_uniq "
   ]
  },
  {
   "cell_type": "code",
   "execution_count": 33,
   "metadata": {},
   "outputs": [],
   "source": [
    "cat_dict = {i:category.count(i) for i in category}"
   ]
  },
  {
   "cell_type": "code",
   "execution_count": 65,
   "metadata": {},
   "outputs": [
    {
     "name": "stdout",
     "output_type": "stream",
     "text": [
      "Процентное соотношение категорий в RIA-новостях:\n",
      "   В мире: 24.81  %\n",
      "   : 16.30  %\n",
      "   Общество: 8.40  %\n",
      "   Происшествия: 9.06  %\n",
      "   Религия: 1.33  %\n",
      "   Наука: 2.31  %\n",
      "   Туризм: 1.68  %\n",
      "   Экономика: 6.81  %\n",
      "   Недвижимость: 3.62  %\n",
      "   Политика: 3.94  %\n",
      "   Акценты - Радио Sputnik: 0.52  %\n",
      "   Культура: 2.06  %\n",
      "   Программы - Радио Sputnik: 0.09  %\n",
      "   Спорт: 15.67  %\n",
      "   Сказано в эфире - Радио Sputnik: 1.58  %\n",
      "   Видеоблоги - Радио Sputnik: 0.23  %\n",
      "   Радио: 0.08  %\n",
      "   Социальный навигатор: 1.21  %\n",
      "   Навигатор абитуриента: 0.18  %\n",
      "   Инфографика: 0.08  %\n",
      "   АртВывих: 0.01  %\n",
      "   Теория заблуждений: 0.02  %\n",
      "   Спецпроекты - Радио Sputnik: 0.00  %\n",
      "--------------------------------------------------\n",
      "Редкие категории (для удаления): ['', 'Религия', 'Туризм', 'Акценты - Радио Sputnik', 'Программы - Радио Sputnik', 'Сказано в эфире - Радио Sputnik', 'Видеоблоги - Радио Sputnik', 'Радио', 'Социальный навигатор', 'Навигатор абитуриента', 'Инфографика', 'АртВывих', 'Теория заблуждений', 'Спецпроекты - Радио Sputnik']\n",
      "--------------------------------------------------\n",
      "Итоговые категории (для анализа): ['Общество', 'Происшествия', 'Недвижимость', 'Политика', 'Спорт', 'В мире', 'Культура', 'Наука', 'Экономика']\n"
     ]
    }
   ],
   "source": [
    "cats_to_drop = []\n",
    "cats_done = []\n",
    "\n",
    "RARE_CAT_PERCENTAGE = 2\n",
    "\n",
    "print('Процентное соотношение категорий в RIA-новостях:')\n",
    "for key, value in cat_dict.items():\n",
    "    print('   {}: {:.2f}  %'.format(key, value/len(ria_news)*100))\n",
    "    if key == '':\n",
    "        cats_to_drop.append(key)\n",
    "    if value/len(ria_news)*100 <= RARE_CAT_PERCENTAGE:\n",
    "        cats_to_drop.append(key)\n",
    "print(\"-\"*50)\n",
    "print(f'Редкие категории (для удаления): {cats_to_drop}')\n",
    "cat_done = [ elem for elem in cat_uniq if elem not in cats_to_drop]\n",
    "print(\"-\"*50)\n",
    "print(f'Итоговые категории (для анализа): {cat_done}')"
   ]
  },
  {
   "cell_type": "markdown",
   "metadata": {},
   "source": [
    "Получим итоговый датасет для нейронки:"
   ]
  },
  {
   "cell_type": "code",
   "execution_count": 68,
   "metadata": {},
   "outputs": [],
   "source": [
    "ria_news_done = [ elem for elem in ria_news if elem['category'] in cat_done]"
   ]
  },
  {
   "cell_type": "code",
   "execution_count": 81,
   "metadata": {},
   "outputs": [
    {
     "name": "stdout",
     "output_type": "stream",
     "text": [
      "Размер таблицы:  (154748, 2)\n"
     ]
    },
    {
     "data": {
      "text/html": [
       "<div>\n",
       "<style scoped>\n",
       "    .dataframe tbody tr th:only-of-type {\n",
       "        vertical-align: middle;\n",
       "    }\n",
       "\n",
       "    .dataframe tbody tr th {\n",
       "        vertical-align: top;\n",
       "    }\n",
       "\n",
       "    .dataframe thead th {\n",
       "        text-align: right;\n",
       "    }\n",
       "</style>\n",
       "<table border=\"1\" class=\"dataframe\">\n",
       "  <thead>\n",
       "    <tr style=\"text-align: right;\">\n",
       "      <th></th>\n",
       "      <th>text</th>\n",
       "      <th>target</th>\n",
       "    </tr>\n",
       "  </thead>\n",
       "  <tbody>\n",
       "    <tr>\n",
       "      <th>0</th>\n",
       "      <td>МОСКВА, 31 дек - РИА Новости. Премьер-министр ...</td>\n",
       "      <td>В мире</td>\n",
       "    </tr>\n",
       "    <tr>\n",
       "      <th>1</th>\n",
       "      <td>ПАРИЖ, 31 дек – РИА Новости. Результат реформ ...</td>\n",
       "      <td>В мире</td>\n",
       "    </tr>\n",
       "    <tr>\n",
       "      <th>2</th>\n",
       "      <td>МОСКВА, 31 дек - РИА Новости. Суд в американск...</td>\n",
       "      <td>В мире</td>\n",
       "    </tr>\n",
       "    <tr>\n",
       "      <th>3</th>\n",
       "      <td>БАНГКОК, 31 дек – РИА Новости. Россиянин Борис...</td>\n",
       "      <td>В мире</td>\n",
       "    </tr>\n",
       "    <tr>\n",
       "      <th>4</th>\n",
       "      <td>МОСКВА, 31 дек - РИА Новости. Глава российског...</td>\n",
       "      <td>Общество</td>\n",
       "    </tr>\n",
       "  </tbody>\n",
       "</table>\n",
       "</div>"
      ],
      "text/plain": [
       "                                                text    target\n",
       "0  МОСКВА, 31 дек - РИА Новости. Премьер-министр ...    В мире\n",
       "1  ПАРИЖ, 31 дек – РИА Новости. Результат реформ ...    В мире\n",
       "2  МОСКВА, 31 дек - РИА Новости. Суд в американск...    В мире\n",
       "3  БАНГКОК, 31 дек – РИА Новости. Россиянин Борис...    В мире\n",
       "4  МОСКВА, 31 дек - РИА Новости. Глава российског...  Общество"
      ]
     },
     "execution_count": 81,
     "metadata": {},
     "output_type": "execute_result"
    }
   ],
   "source": [
    "df = pd.DataFrame( )\n",
    "df['text'] = [news['text'] for news in ria_news_done]\n",
    "df['category'] = [news['category'] for news in ria_news_done]\n",
    "df['target'] = [news['category'] for news in ria_news_done]\n",
    "df.reset_index(drop=True, inplace=True)\n",
    "\n",
    "print(\"Размер таблицы: \", df.shape)\n",
    "df.head()"
   ]
  },
  {
   "cell_type": "markdown",
   "metadata": {},
   "source": [
    "### 3. Лемматизация, эмбеддинги и чистка текстов в датасете"
   ]
  },
  {
   "cell_type": "code",
   "execution_count": 82,
   "metadata": {},
   "outputs": [],
   "source": [
    "def prepare_text(text):  \n",
    "    words = [morph.normal_forms(word)[0] for word in \n",
    "             re.sub('[^a-zа-я0-9]', ' ', text.lower()).split(' ') if (len(word) >= 2) and (word not in stopwords)]\n",
    "    return words"
   ]
  },
  {
   "cell_type": "code",
   "execution_count": 83,
   "metadata": {},
   "outputs": [
    {
     "name": "stdout",
     "output_type": "stream",
     "text": [
      "Wall time: 1h 5min 31s\n"
     ]
    }
   ],
   "source": [
    "%%time\n",
    "df['prepare_text'] = df.text.apply(prepare_text)"
   ]
  },
  {
   "cell_type": "code",
   "execution_count": 84,
   "metadata": {},
   "outputs": [
    {
     "data": {
      "text/html": [
       "<div>\n",
       "<style scoped>\n",
       "    .dataframe tbody tr th:only-of-type {\n",
       "        vertical-align: middle;\n",
       "    }\n",
       "\n",
       "    .dataframe tbody tr th {\n",
       "        vertical-align: top;\n",
       "    }\n",
       "\n",
       "    .dataframe thead th {\n",
       "        text-align: right;\n",
       "    }\n",
       "</style>\n",
       "<table border=\"1\" class=\"dataframe\">\n",
       "  <thead>\n",
       "    <tr style=\"text-align: right;\">\n",
       "      <th></th>\n",
       "      <th>text</th>\n",
       "      <th>target</th>\n",
       "      <th>prepare_text</th>\n",
       "    </tr>\n",
       "  </thead>\n",
       "  <tbody>\n",
       "    <tr>\n",
       "      <th>0</th>\n",
       "      <td>МОСКВА, 31 дек - РИА Новости. Премьер-министр ...</td>\n",
       "      <td>В мире</td>\n",
       "      <td>[москва, 31, дек, риа, новость, премьер, минис...</td>\n",
       "    </tr>\n",
       "    <tr>\n",
       "      <th>1</th>\n",
       "      <td>ПАРИЖ, 31 дек – РИА Новости. Результат реформ ...</td>\n",
       "      <td>В мире</td>\n",
       "      <td>[париж, 31, дек, риа, новость, результат, рефо...</td>\n",
       "    </tr>\n",
       "    <tr>\n",
       "      <th>2</th>\n",
       "      <td>МОСКВА, 31 дек - РИА Новости. Суд в американск...</td>\n",
       "      <td>В мире</td>\n",
       "      <td>[москва, 31, дек, риа, новость, суд, американс...</td>\n",
       "    </tr>\n",
       "    <tr>\n",
       "      <th>3</th>\n",
       "      <td>БАНГКОК, 31 дек – РИА Новости. Россиянин Борис...</td>\n",
       "      <td>В мире</td>\n",
       "      <td>[бангкок, 31, дек, риа, новость, россиянин, бо...</td>\n",
       "    </tr>\n",
       "    <tr>\n",
       "      <th>4</th>\n",
       "      <td>МОСКВА, 31 дек - РИА Новости. Глава российског...</td>\n",
       "      <td>Общество</td>\n",
       "      <td>[москва, 31, дек, риа, новость, глава, российс...</td>\n",
       "    </tr>\n",
       "  </tbody>\n",
       "</table>\n",
       "</div>"
      ],
      "text/plain": [
       "                                                text    target  \\\n",
       "0  МОСКВА, 31 дек - РИА Новости. Премьер-министр ...    В мире   \n",
       "1  ПАРИЖ, 31 дек – РИА Новости. Результат реформ ...    В мире   \n",
       "2  МОСКВА, 31 дек - РИА Новости. Суд в американск...    В мире   \n",
       "3  БАНГКОК, 31 дек – РИА Новости. Россиянин Борис...    В мире   \n",
       "4  МОСКВА, 31 дек - РИА Новости. Глава российског...  Общество   \n",
       "\n",
       "                                        prepare_text  \n",
       "0  [москва, 31, дек, риа, новость, премьер, минис...  \n",
       "1  [париж, 31, дек, риа, новость, результат, рефо...  \n",
       "2  [москва, 31, дек, риа, новость, суд, американс...  \n",
       "3  [бангкок, 31, дек, риа, новость, россиянин, бо...  \n",
       "4  [москва, 31, дек, риа, новость, глава, российс...  "
      ]
     },
     "execution_count": 84,
     "metadata": {},
     "output_type": "execute_result"
    }
   ],
   "source": [
    "df.head()"
   ]
  },
  {
   "cell_type": "code",
   "execution_count": 85,
   "metadata": {},
   "outputs": [
    {
     "data": {
      "text/plain": [
       "170596"
      ]
     },
     "execution_count": 85,
     "metadata": {},
     "output_type": "execute_result"
    }
   ],
   "source": [
    "words_count = defaultdict(lambda: 0)\n",
    "\n",
    "for text in df.prepare_text:\n",
    "    for word in text:\n",
    "        words_count[word] +=1\n",
    "        \n",
    "len(words_count)"
   ]
  },
  {
   "cell_type": "code",
   "execution_count": 86,
   "metadata": {},
   "outputs": [
    {
     "data": {
      "text/html": [
       "<div>\n",
       "<style scoped>\n",
       "    .dataframe tbody tr th:only-of-type {\n",
       "        vertical-align: middle;\n",
       "    }\n",
       "\n",
       "    .dataframe tbody tr th {\n",
       "        vertical-align: top;\n",
       "    }\n",
       "\n",
       "    .dataframe thead th {\n",
       "        text-align: right;\n",
       "    }\n",
       "</style>\n",
       "<table border=\"1\" class=\"dataframe\">\n",
       "  <thead>\n",
       "    <tr style=\"text-align: right;\">\n",
       "      <th></th>\n",
       "      <th>text</th>\n",
       "      <th>target</th>\n",
       "      <th>prepare_text</th>\n",
       "      <th>freq_text</th>\n",
       "    </tr>\n",
       "  </thead>\n",
       "  <tbody>\n",
       "    <tr>\n",
       "      <th>0</th>\n",
       "      <td>МОСКВА, 31 дек - РИА Новости. Премьер-министр ...</td>\n",
       "      <td>В мире</td>\n",
       "      <td>[москва, 31, дек, риа, новость, премьер, минис...</td>\n",
       "      <td>[7801, 21065, 19938, 1063, 9678, 22247, 13402,...</td>\n",
       "    </tr>\n",
       "    <tr>\n",
       "      <th>1</th>\n",
       "      <td>ПАРИЖ, 31 дек – РИА Новости. Результат реформ ...</td>\n",
       "      <td>В мире</td>\n",
       "      <td>[париж, 31, дек, риа, новость, результат, рефо...</td>\n",
       "      <td>[22080, 21065, 19938, 1063, 9678, 10100, 17273...</td>\n",
       "    </tr>\n",
       "    <tr>\n",
       "      <th>2</th>\n",
       "      <td>МОСКВА, 31 дек - РИА Новости. Суд в американск...</td>\n",
       "      <td>В мире</td>\n",
       "      <td>[москва, 31, дек, риа, новость, суд, американс...</td>\n",
       "      <td>[7801, 21065, 19938, 1063, 9678, 21716, 8296, ...</td>\n",
       "    </tr>\n",
       "    <tr>\n",
       "      <th>3</th>\n",
       "      <td>БАНГКОК, 31 дек – РИА Новости. Россиянин Борис...</td>\n",
       "      <td>В мире</td>\n",
       "      <td>[бангкок, 31, дек, риа, новость, россиянин, бо...</td>\n",
       "      <td>[14491, 21065, 19938, 1063, 9678, 18260, 2057,...</td>\n",
       "    </tr>\n",
       "    <tr>\n",
       "      <th>4</th>\n",
       "      <td>МОСКВА, 31 дек - РИА Новости. Глава российског...</td>\n",
       "      <td>Общество</td>\n",
       "      <td>[москва, 31, дек, риа, новость, глава, российс...</td>\n",
       "      <td>[7801, 21065, 19938, 1063, 9678, 22105, 5277, ...</td>\n",
       "    </tr>\n",
       "  </tbody>\n",
       "</table>\n",
       "</div>"
      ],
      "text/plain": [
       "                                                text    target  \\\n",
       "0  МОСКВА, 31 дек - РИА Новости. Премьер-министр ...    В мире   \n",
       "1  ПАРИЖ, 31 дек – РИА Новости. Результат реформ ...    В мире   \n",
       "2  МОСКВА, 31 дек - РИА Новости. Суд в американск...    В мире   \n",
       "3  БАНГКОК, 31 дек – РИА Новости. Россиянин Борис...    В мире   \n",
       "4  МОСКВА, 31 дек - РИА Новости. Глава российског...  Общество   \n",
       "\n",
       "                                        prepare_text  \\\n",
       "0  [москва, 31, дек, риа, новость, премьер, минис...   \n",
       "1  [париж, 31, дек, риа, новость, результат, рефо...   \n",
       "2  [москва, 31, дек, риа, новость, суд, американс...   \n",
       "3  [бангкок, 31, дек, риа, новость, россиянин, бо...   \n",
       "4  [москва, 31, дек, риа, новость, глава, российс...   \n",
       "\n",
       "                                           freq_text  \n",
       "0  [7801, 21065, 19938, 1063, 9678, 22247, 13402,...  \n",
       "1  [22080, 21065, 19938, 1063, 9678, 10100, 17273...  \n",
       "2  [7801, 21065, 19938, 1063, 9678, 21716, 8296, ...  \n",
       "3  [14491, 21065, 19938, 1063, 9678, 18260, 2057,...  \n",
       "4  [7801, 21065, 19938, 1063, 9678, 22105, 5277, ...  "
      ]
     },
     "execution_count": 86,
     "metadata": {},
     "output_type": "execute_result"
    }
   ],
   "source": [
    "top_words = 24999    # ограниичимся словарём из 25000 самых частых слов\n",
    "\n",
    "sorted_words = sorted(words_count.items(), key=lambda w:w[1], reverse=True)\n",
    "freq_words = {item[0] for item in sorted_words[:top_words]}\n",
    "\n",
    "encoder = dict(zip(freq_words, list(range(1,len(freq_words) + 1))))\n",
    "\n",
    "# функция-фильтр\n",
    "def freq_filter(text):\n",
    "    return np.array([encoder[word] for word in text if word in freq_words])\n",
    "\n",
    "df['freq_text'] = df.prepare_text.apply(freq_filter)\n",
    "df.head()"
   ]
  },
  {
   "cell_type": "code",
   "execution_count": 88,
   "metadata": {},
   "outputs": [],
   "source": [
    "df = df[df.freq_text.apply(len) > 2]"
   ]
  },
  {
   "cell_type": "code",
   "execution_count": 177,
   "metadata": {},
   "outputs": [],
   "source": [
    "from sklearn import preprocessing\n",
    "le = preprocessing.LabelEncoder()\n",
    "cat_encode = le.fit_transform(cat_done)\n",
    "cat_encoder = dict(zip(cat_done, cat_encode))"
   ]
  },
  {
   "cell_type": "code",
   "execution_count": 185,
   "metadata": {},
   "outputs": [],
   "source": [
    "df['target'] = df['target'].map(cat_encoder)"
   ]
  },
  {
   "cell_type": "code",
   "execution_count": 95,
   "metadata": {},
   "outputs": [],
   "source": [
    "from sklearn.model_selection import train_test_split\n",
    "\n",
    "X_train, X_test, y_train, y_test = train_test_split(df.freq_text, df.target, test_size=0.2)"
   ]
  },
  {
   "cell_type": "code",
   "execution_count": 108,
   "metadata": {},
   "outputs": [
    {
     "name": "stdout",
     "output_type": "stream",
     "text": [
      "123798 train sequences\n",
      "30950 test sequences\n"
     ]
    },
    {
     "data": {
      "text/plain": [
       "array([ 7801, 10331,  4351,  1063,  9678, 23221, 18047, 20333, 19679,\n",
       "       15484,  9818,  1130, 23850,  9626,  6555,   709, 13500, 24831,\n",
       "       19679, 22648, 13402, 13999,  4681, 22947,  4745, 24026, 17314,\n",
       "        4976, 11968, 21988,  4899,  3262,  5277, 19679, 15277,  4643,\n",
       "       13500, 12046,  8349, 12488, 19679,  9716,  9235, 19679, 20860,\n",
       "       13500, 12046, 19781, 21893, 19570, 17640, 14186, 17311, 19679,\n",
       "        4180, 24016, 18136,  4643,  2309, 13731, 13500, 12046, 17182,\n",
       "       23462, 14672,  9263,  9235,  6128,  9968, 19010,  3304, 23850,\n",
       "        1063,  9678,  2145, 13000, 13999,  6076, 11253, 19679, 12805,\n",
       "       20711, 22698,  9639,  4180])"
      ]
     },
     "execution_count": 108,
     "metadata": {},
     "output_type": "execute_result"
    }
   ],
   "source": [
    "print(len(X_train), 'train sequences')\n",
    "print(len(X_test), 'test sequences')\n",
    "\n",
    "# как выглядит вектор\n",
    "X_train.iloc[0][:100]"
   ]
  },
  {
   "cell_type": "markdown",
   "metadata": {},
   "source": [
    "### 4. Сборка архитектуры и иобучение"
   ]
  },
  {
   "cell_type": "code",
   "execution_count": 109,
   "metadata": {},
   "outputs": [],
   "source": [
    "max_news_length = 60         \n",
    "\n",
    "X_train = sequence.pad_sequences(X_train, maxlen=max_news_length)\n",
    "X_test = sequence.pad_sequences(X_test, maxlen=max_news_length)"
   ]
  },
  {
   "cell_type": "code",
   "execution_count": 114,
   "metadata": {},
   "outputs": [],
   "source": [
    "NEIRONS = len(cat_done)\n",
    "embedding_vector_length = 64    # размерность эмбендинга\n",
    "top = top_words + 1             # на вход идут слова и нулевой элемент"
   ]
  },
  {
   "cell_type": "markdown",
   "metadata": {},
   "source": [
    "В качестве модели будем использовать простую сеть, состоящую из слоя эмбеддинга, 1-d конволюционного слоя, макспулинга и слоя LSTM. Для регуляризации и предотвращения переобучения перед LSTM поставим Dropout-слой. Финальным слоем поставим Softmax, который будет возвращать массив вероятностей для всех категорий.\n",
    "\n",
    "Так как стоит задача предсказания вероятностей категорий, то в качестве loss-функции будем использовать sparse_categorical_crossentropy, а в качестве метрики качества - Accuracy."
   ]
  },
  {
   "cell_type": "code",
   "execution_count": 116,
   "metadata": {},
   "outputs": [],
   "source": [
    "model = Sequential()\n",
    "model.add(Embedding(top, embedding_vector_length, input_length=max_news_length))\n",
    "model.add(Conv1D(filters=8, kernel_size=3, padding='same', activation='relu'))\n",
    "model.add(MaxPooling1D(pool_size=2))\n",
    "model.add(Dropout(0.5))\n",
    "model.add(LSTM(32))\n",
    "model.add(Dense(NEIRONS, activation='softmax'))\n",
    "\n",
    "# собираем сетку и выбираем оптимизатор для обучения\n",
    "model.compile(loss='sparse_categorical_crossentropy', optimizer='adam', metrics=['accuracy'])"
   ]
  },
  {
   "cell_type": "code",
   "execution_count": 120,
   "metadata": {},
   "outputs": [
    {
     "name": "stdout",
     "output_type": "stream",
     "text": [
      "Train on 105228 samples, validate on 18570 samples\n",
      "Epoch 1/3\n",
      "105228/105228 [==============================] - 145s 1ms/step - loss: 0.8741 - accuracy: 0.7010 - val_loss: 0.6155 - val_accuracy: 0.7961\n",
      "Epoch 2/3\n",
      "105228/105228 [==============================] - 140s 1ms/step - loss: 0.5792 - accuracy: 0.8074 - val_loss: 0.5564 - val_accuracy: 0.8177\n",
      "Epoch 3/3\n",
      "105228/105228 [==============================] - 144s 1ms/step - loss: 0.4912 - accuracy: 0.8404 - val_loss: 0.5393 - val_accuracy: 0.8222\n"
     ]
    }
   ],
   "source": [
    "import tensorflow as tf\n",
    "\n",
    "# гоняем сетку три эпохи\n",
    "with tf.device('/CPU:0'):\n",
    "    hist = model.fit(X_train, y_train, validation_split=0.15, epochs=3, batch_size=32)"
   ]
  },
  {
   "cell_type": "code",
   "execution_count": 125,
   "metadata": {},
   "outputs": [
    {
     "name": "stdout",
     "output_type": "stream",
     "text": [
      "Accuracy: 0.8257\n"
     ]
    }
   ],
   "source": [
    "# качество на тесте\n",
    "with tf.device('/CPU:0'):\n",
    "    scores = model.evaluate(X_test, y_test, verbose=0)\n",
    "    prob = model.predict_proba(X_test)\n",
    "print('Accuracy: %.4f'%(scores[1]))"
   ]
  },
  {
   "cell_type": "code",
   "execution_count": 123,
   "metadata": {},
   "outputs": [
    {
     "data": {
      "text/plain": [
       "<matplotlib.legend.Legend at 0x13e2a397108>"
      ]
     },
     "execution_count": 123,
     "metadata": {},
     "output_type": "execute_result"
    },
    {
     "data": {
      "image/png": "[encoded data removed]",
      "text/plain": [
       "<Figure size 432x288 with 1 Axes>"
      ]
     },
     "metadata": {
      "needs_background": "light"
     },
     "output_type": "display_data"
    }
   ],
   "source": [
    "# когда начали переобучаться\n",
    "plt.plot(hist.history['loss'])\n",
    "plt.plot(hist.history['val_loss'])\n",
    "plt.legend(['Train loss', 'Validation loss'])"
   ]
  },
  {
   "cell_type": "markdown",
   "metadata": {},
   "source": [
    "### 5. Финальная обработка данных и выдача результата"
   ]
  },
  {
   "cell_type": "code",
   "execution_count": 244,
   "metadata": {},
   "outputs": [],
   "source": [
    "inv_cat_encoder = {v: k for k, v in cat_encoder.items()}\n",
    "\n",
    "def output_top3_categories(prob):\n",
    "    results = tf.argsort(prob, axis=1)\n",
    "    top_cats_pred = np.array([result[-3:] for result in results])\n",
    "    result_df = pd.DataFrame({'Реальная категория':y_test, \n",
    "                          'Лучшая категория (прогноз)':top_cats_pred[:, -1],\n",
    "                          '2-я категория (прогноз)':top_cats_pred[:, -2],\n",
    "                          '3-я категория (прогноз)':top_cats_pred[:, -3],\n",
    "                         })\n",
    "    result_df['Реальная категория'] = result_df['Реальная категория'].map(inv_cat_encoder)\n",
    "    result_df['Лучшая категория (прогноз)'] = result_df['Лучшая категория (прогноз)'].map(inv_cat_encoder)\n",
    "    result_df['2-я категория (прогноз)'] = result_df['2-я категория (прогноз)'].map(inv_cat_encoder)\n",
    "    result_df['3-я категория (прогноз)'] = result_df['3-я категория (прогноз)'].map(inv_cat_encoder)\n",
    "    \n",
    "    return result_df"
   ]
  },
  {
   "cell_type": "code",
   "execution_count": 245,
   "metadata": {},
   "outputs": [
    {
     "name": "stdout",
     "output_type": "stream",
     "text": [
      "Предсказание 3-х самых вероятных категорий для новостей.\n"
     ]
    },
    {
     "data": {
      "text/html": [
       "<div>\n",
       "<style scoped>\n",
       "    .dataframe tbody tr th:only-of-type {\n",
       "        vertical-align: middle;\n",
       "    }\n",
       "\n",
       "    .dataframe tbody tr th {\n",
       "        vertical-align: top;\n",
       "    }\n",
       "\n",
       "    .dataframe thead th {\n",
       "        text-align: right;\n",
       "    }\n",
       "</style>\n",
       "<table border=\"1\" class=\"dataframe\">\n",
       "  <thead>\n",
       "    <tr style=\"text-align: right;\">\n",
       "      <th></th>\n",
       "      <th>Реальная категория</th>\n",
       "      <th>Лучшая категория (прогноз)</th>\n",
       "      <th>2-я категория (прогноз)</th>\n",
       "      <th>3-я категория (прогноз)</th>\n",
       "      <th>text</th>\n",
       "    </tr>\n",
       "  </thead>\n",
       "  <tbody>\n",
       "    <tr>\n",
       "      <th>11200</th>\n",
       "      <td>В мире</td>\n",
       "      <td>В мире</td>\n",
       "      <td>Политика</td>\n",
       "      <td>Общество</td>\n",
       "      <td>МОСКВА, 7 дек - РИА Новости. Заявление США о ...</td>\n",
       "    </tr>\n",
       "    <tr>\n",
       "      <th>88517</th>\n",
       "      <td>Культура</td>\n",
       "      <td>Культура</td>\n",
       "      <td>Общество</td>\n",
       "      <td>Недвижимость</td>\n",
       "      <td>МОСКВА, 14 июл — РИА Новости. Кинокритики амер...</td>\n",
       "    </tr>\n",
       "    <tr>\n",
       "      <th>134796</th>\n",
       "      <td>Общество</td>\n",
       "      <td>Общество</td>\n",
       "      <td>Культура</td>\n",
       "      <td>Наука</td>\n",
       "      <td>\\nМОСКВА, 19 апр — РИА Новости. Российский евр...</td>\n",
       "    </tr>\n",
       "    <tr>\n",
       "      <th>120926</th>\n",
       "      <td>В мире</td>\n",
       "      <td>В мире</td>\n",
       "      <td>Политика</td>\n",
       "      <td>Экономика</td>\n",
       "      <td>\\nВАШИНГТОН, 15 мая — РИА Новости. США винят Х...</td>\n",
       "    </tr>\n",
       "    <tr>\n",
       "      <th>119441</th>\n",
       "      <td>Недвижимость</td>\n",
       "      <td>Недвижимость</td>\n",
       "      <td>Общество</td>\n",
       "      <td>Происшествия</td>\n",
       "      <td>МОСКВА, 18 мая — РИА Недвижимость. Сцену кинок...</td>\n",
       "    </tr>\n",
       "    <tr>\n",
       "      <th>74790</th>\n",
       "      <td>В мире</td>\n",
       "      <td>В мире</td>\n",
       "      <td>Происшествия</td>\n",
       "      <td>Общество</td>\n",
       "      <td>\\nМОСКВА, 9 авг — РИА Новости. Десятки рейсов ...</td>\n",
       "    </tr>\n",
       "    <tr>\n",
       "      <th>100000</th>\n",
       "      <td>Экономика</td>\n",
       "      <td>Политика</td>\n",
       "      <td>Общество</td>\n",
       "      <td>Экономика</td>\n",
       "      <td>\\nМОСКВА, 22 июн — РИА Новости. Совет директор...</td>\n",
       "    </tr>\n",
       "    <tr>\n",
       "      <th>142502</th>\n",
       "      <td>Экономика</td>\n",
       "      <td>Экономика</td>\n",
       "      <td>В мире</td>\n",
       "      <td>Политика</td>\n",
       "      <td>\\nМОСКВА, 5 апр — РИА Новости. Белорусским про...</td>\n",
       "    </tr>\n",
       "    <tr>\n",
       "      <th>5372</th>\n",
       "      <td>Экономика</td>\n",
       "      <td>Экономика</td>\n",
       "      <td>В мире</td>\n",
       "      <td>Политика</td>\n",
       "      <td>МОСКВА, 19 дек — РИА Новости. Стоимость нефти ...</td>\n",
       "    </tr>\n",
       "    <tr>\n",
       "      <th>13087</th>\n",
       "      <td>В мире</td>\n",
       "      <td>В мире</td>\n",
       "      <td>Политика</td>\n",
       "      <td>Общество</td>\n",
       "      <td>БРЮССЕЛЬ, 4 дек — РИА Новости. Генсек НАТО Йе...</td>\n",
       "    </tr>\n",
       "  </tbody>\n",
       "</table>\n",
       "</div>"
      ],
      "text/plain": [
       "       Реальная категория Лучшая категория (прогноз) 2-я категория (прогноз)  \\\n",
       "11200              В мире                     В мире                Политика   \n",
       "88517            Культура                   Культура                Общество   \n",
       "134796           Общество                   Общество                Культура   \n",
       "120926             В мире                     В мире                Политика   \n",
       "119441       Недвижимость               Недвижимость                Общество   \n",
       "74790              В мире                     В мире            Происшествия   \n",
       "100000          Экономика                   Политика                Общество   \n",
       "142502          Экономика                  Экономика                  В мире   \n",
       "5372            Экономика                  Экономика                  В мире   \n",
       "13087              В мире                     В мире                Политика   \n",
       "\n",
       "       3-я категория (прогноз)  \\\n",
       "11200                 Общество   \n",
       "88517             Недвижимость   \n",
       "134796                   Наука   \n",
       "120926               Экономика   \n",
       "119441            Происшествия   \n",
       "74790                 Общество   \n",
       "100000               Экономика   \n",
       "142502                Политика   \n",
       "5372                  Политика   \n",
       "13087                 Общество   \n",
       "\n",
       "                                                     text  \n",
       "11200    МОСКВА, 7 дек - РИА Новости. Заявление США о ...  \n",
       "88517   МОСКВА, 14 июл — РИА Новости. Кинокритики амер...  \n",
       "134796  \\nМОСКВА, 19 апр — РИА Новости. Российский евр...  \n",
       "120926  \\nВАШИНГТОН, 15 мая — РИА Новости. США винят Х...  \n",
       "119441  МОСКВА, 18 мая — РИА Недвижимость. Сцену кинок...  \n",
       "74790   \\nМОСКВА, 9 авг — РИА Новости. Десятки рейсов ...  \n",
       "100000  \\nМОСКВА, 22 июн — РИА Новости. Совет директор...  \n",
       "142502  \\nМОСКВА, 5 апр — РИА Новости. Белорусским про...  \n",
       "5372    МОСКВА, 19 дек — РИА Новости. Стоимость нефти ...  \n",
       "13087    БРЮССЕЛЬ, 4 дек — РИА Новости. Генсек НАТО Йе...  "
      ]
     },
     "execution_count": 245,
     "metadata": {},
     "output_type": "execute_result"
    }
   ],
   "source": [
    "result_df = output_top3_categories(prob)\n",
    "result_df_with_news = result_df.merge(df.text, left_index=True, right_index=True)\n",
    "print(\"Предсказание 3-х самых вероятных категорий для новостей.\")\n",
    "result_df_with_news.head(10)"
   ]
  }
 ],
 "metadata": {
  "kernelspec": {
   "display_name": "Python 3",
   "language": "python",
   "name": "python3"
  },
  "language_info": {
   "codemirror_mode": {
    "name": "ipython",
    "version": 3
   },
   "file_extension": ".py",
   "mimetype": "text/x-python",
   "name": "python",
   "nbconvert_exporter": "python",
   "pygments_lexer": "ipython3",
   "version": "3.6.10"
  }
 },
 "nbformat": 4,
 "nbformat_minor": 2
}
